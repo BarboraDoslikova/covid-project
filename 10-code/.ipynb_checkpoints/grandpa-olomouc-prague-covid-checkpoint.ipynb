{
 "cells": [
  {
   "cell_type": "markdown",
   "metadata": {},
   "source": [
    "# Q: Is my 75+ grandpa in Olomouc or my grandpa in Prague in a bigger risk of dying from COVID-19?"
   ]
  },
  {
   "cell_type": "markdown",
   "metadata": {},
   "source": [
    "**Q1: Where is he more likely to catch it? Answered: Equally likely in both cities!**<br>\n",
    "Q2: If he caught it, where are people of 75+ more frequently hospitalised?<br>\n",
    "Q3: If hospitalised, where are people of 75+ more frequently dying?<br>\n",
    "<br>\n",
    "Need the following data:<br>\n",
    "* number of people in O and in P *(got it)*\n",
    "* incidence in O and in P per number of people in the city *(got it)*\n",
    "* number of hospitalised 75+ people in Olomouc and in Prague\n",
    "* number of deaths in 75+ people in Olomouc and in Prague"
   ]
  },
  {
   "cell_type": "markdown",
   "metadata": {},
   "source": [
    "TO DO:<br>\n",
    "* Find out lau versus orp for exact population and correct.\n",
    "* What is the '_7' and its significance?"
   ]
  },
  {
   "cell_type": "code",
   "execution_count": 1,
   "metadata": {},
   "outputs": [],
   "source": [
    "import pandas as pd\n",
    "import matplotlib.pyplot as plt\n",
    "%matplotlib inline"
   ]
  },
  {
   "cell_type": "code",
   "execution_count": 2,
   "metadata": {},
   "outputs": [],
   "source": [
    "lau_Prg = 'CZ0100'\n",
    "lau_Olo = 'CZ0712'\n",
    "pop_Prg = 1309000\n",
    "pop_Olo = 233823"
   ]
  },
  {
   "cell_type": "code",
   "execution_count": 3,
   "metadata": {
    "scrolled": true
   },
   "outputs": [
    {
     "data": {
      "text/html": [
       "<div>\n",
       "<style scoped>\n",
       "    .dataframe tbody tr th:only-of-type {\n",
       "        vertical-align: middle;\n",
       "    }\n",
       "\n",
       "    .dataframe tbody tr th {\n",
       "        vertical-align: top;\n",
       "    }\n",
       "\n",
       "    .dataframe thead th {\n",
       "        text-align: right;\n",
       "    }\n",
       "</style>\n",
       "<table border=\"1\" class=\"dataframe\">\n",
       "  <thead>\n",
       "    <tr style=\"text-align: right;\">\n",
       "      <th></th>\n",
       "      <th>datum</th>\n",
       "      <th>vek</th>\n",
       "      <th>okres_lau_kod</th>\n",
       "    </tr>\n",
       "  </thead>\n",
       "  <tbody>\n",
       "    <tr>\n",
       "      <th>0</th>\n",
       "      <td>2020-10-01</td>\n",
       "      <td>59</td>\n",
       "      <td>CZ0100</td>\n",
       "    </tr>\n",
       "    <tr>\n",
       "      <th>1</th>\n",
       "      <td>2020-08-10</td>\n",
       "      <td>11</td>\n",
       "      <td>CZ0209</td>\n",
       "    </tr>\n",
       "    <tr>\n",
       "      <th>2</th>\n",
       "      <td>2020-10-10</td>\n",
       "      <td>18</td>\n",
       "      <td>CZ0632</td>\n",
       "    </tr>\n",
       "    <tr>\n",
       "      <th>3</th>\n",
       "      <td>2020-08-11</td>\n",
       "      <td>49</td>\n",
       "      <td>CZ0427</td>\n",
       "    </tr>\n",
       "    <tr>\n",
       "      <th>4</th>\n",
       "      <td>2020-09-22</td>\n",
       "      <td>24</td>\n",
       "      <td>CZ0806</td>\n",
       "    </tr>\n",
       "  </tbody>\n",
       "</table>\n",
       "</div>"
      ],
      "text/plain": [
       "        datum  vek okres_lau_kod\n",
       "0  2020-10-01   59        CZ0100\n",
       "1  2020-08-10   11        CZ0209\n",
       "2  2020-10-10   18        CZ0632\n",
       "3  2020-08-11   49        CZ0427\n",
       "4  2020-09-22   24        CZ0806"
      ]
     },
     "execution_count": 3,
     "metadata": {},
     "output_type": "execute_result"
    }
   ],
   "source": [
    "df = pd.read_csv('..\\\\00-source-data\\\\osoby.csv')\n",
    "df = df.drop(columns=['nakaza_v_zahranici', 'nakaza_zeme_csu_kod', 'kraj_nuts_kod', 'pohlavi'])\n",
    "df.head()"
   ]
  },
  {
   "cell_type": "markdown",
   "metadata": {},
   "source": [
    "# How many cases are in Olomouc?"
   ]
  },
  {
   "cell_type": "code",
   "execution_count": 4,
   "metadata": {
    "scrolled": false
   },
   "outputs": [
    {
     "data": {
      "text/html": [
       "<div>\n",
       "<style scoped>\n",
       "    .dataframe tbody tr th:only-of-type {\n",
       "        vertical-align: middle;\n",
       "    }\n",
       "\n",
       "    .dataframe tbody tr th {\n",
       "        vertical-align: top;\n",
       "    }\n",
       "\n",
       "    .dataframe thead th {\n",
       "        text-align: right;\n",
       "    }\n",
       "</style>\n",
       "<table border=\"1\" class=\"dataframe\">\n",
       "  <thead>\n",
       "    <tr style=\"text-align: right;\">\n",
       "      <th></th>\n",
       "      <th>datum</th>\n",
       "      <th>vek</th>\n",
       "      <th>okres_lau_kod</th>\n",
       "    </tr>\n",
       "  </thead>\n",
       "  <tbody>\n",
       "    <tr>\n",
       "      <th>21</th>\n",
       "      <td>2020-09-08</td>\n",
       "      <td>45</td>\n",
       "      <td>CZ0712</td>\n",
       "    </tr>\n",
       "    <tr>\n",
       "      <th>22</th>\n",
       "      <td>2020-09-17</td>\n",
       "      <td>26</td>\n",
       "      <td>CZ0712</td>\n",
       "    </tr>\n",
       "    <tr>\n",
       "      <th>159</th>\n",
       "      <td>2020-06-08</td>\n",
       "      <td>39</td>\n",
       "      <td>CZ0712</td>\n",
       "    </tr>\n",
       "    <tr>\n",
       "      <th>220</th>\n",
       "      <td>2020-03-22</td>\n",
       "      <td>38</td>\n",
       "      <td>CZ0712</td>\n",
       "    </tr>\n",
       "    <tr>\n",
       "      <th>248</th>\n",
       "      <td>2020-04-01</td>\n",
       "      <td>31</td>\n",
       "      <td>CZ0712</td>\n",
       "    </tr>\n",
       "  </tbody>\n",
       "</table>\n",
       "</div>"
      ],
      "text/plain": [
       "          datum  vek okres_lau_kod\n",
       "21   2020-09-08   45        CZ0712\n",
       "22   2020-09-17   26        CZ0712\n",
       "159  2020-06-08   39        CZ0712\n",
       "220  2020-03-22   38        CZ0712\n",
       "248  2020-04-01   31        CZ0712"
      ]
     },
     "execution_count": 4,
     "metadata": {},
     "output_type": "execute_result"
    }
   ],
   "source": [
    "df_Olo = df.loc[df['okres_lau_kod'] == lau_Olo]\n",
    "df_Olo.head()"
   ]
  },
  {
   "cell_type": "code",
   "execution_count": 5,
   "metadata": {},
   "outputs": [
    {
     "data": {
      "text/html": [
       "<div>\n",
       "<style scoped>\n",
       "    .dataframe tbody tr th:only-of-type {\n",
       "        vertical-align: middle;\n",
       "    }\n",
       "\n",
       "    .dataframe tbody tr th {\n",
       "        vertical-align: top;\n",
       "    }\n",
       "\n",
       "    .dataframe thead th {\n",
       "        text-align: right;\n",
       "    }\n",
       "</style>\n",
       "<table border=\"1\" class=\"dataframe\">\n",
       "  <thead>\n",
       "    <tr style=\"text-align: right;\">\n",
       "      <th></th>\n",
       "      <th>datum</th>\n",
       "      <th>vek</th>\n",
       "    </tr>\n",
       "  </thead>\n",
       "  <tbody>\n",
       "    <tr>\n",
       "      <th>107652</th>\n",
       "      <td>2020-06-10</td>\n",
       "      <td>72</td>\n",
       "    </tr>\n",
       "    <tr>\n",
       "      <th>107660</th>\n",
       "      <td>2020-10-06</td>\n",
       "      <td>29</td>\n",
       "    </tr>\n",
       "    <tr>\n",
       "      <th>107666</th>\n",
       "      <td>2020-08-12</td>\n",
       "      <td>55</td>\n",
       "    </tr>\n",
       "    <tr>\n",
       "      <th>107737</th>\n",
       "      <td>2020-09-29</td>\n",
       "      <td>41</td>\n",
       "    </tr>\n",
       "    <tr>\n",
       "      <th>107742</th>\n",
       "      <td>2020-03-25</td>\n",
       "      <td>71</td>\n",
       "    </tr>\n",
       "  </tbody>\n",
       "</table>\n",
       "</div>"
      ],
      "text/plain": [
       "             datum  vek\n",
       "107652  2020-06-10   72\n",
       "107660  2020-10-06   29\n",
       "107666  2020-08-12   55\n",
       "107737  2020-09-29   41\n",
       "107742  2020-03-25   71"
      ]
     },
     "execution_count": 5,
     "metadata": {},
     "output_type": "execute_result"
    }
   ],
   "source": [
    "df_Olo = df_Olo.drop(columns=['okres_lau_kod'])\n",
    "df_Olo.tail()"
   ]
  },
  {
   "cell_type": "code",
   "execution_count": 6,
   "metadata": {},
   "outputs": [
    {
     "data": {
      "text/plain": [
       "datum    object\n",
       "vek       int64\n",
       "dtype: object"
      ]
     },
     "execution_count": 6,
     "metadata": {},
     "output_type": "execute_result"
    }
   ],
   "source": [
    "df_Olo.dtypes"
   ]
  },
  {
   "cell_type": "code",
   "execution_count": 7,
   "metadata": {},
   "outputs": [
    {
     "data": {
      "text/plain": [
       "datum    datetime64[ns]\n",
       "vek               int64\n",
       "dtype: object"
      ]
     },
     "execution_count": 7,
     "metadata": {},
     "output_type": "execute_result"
    }
   ],
   "source": [
    "df_Olo['datum'] = df_Olo['datum'].apply(pd.to_datetime)\n",
    "df_Olo.dtypes"
   ]
  },
  {
   "cell_type": "code",
   "execution_count": 8,
   "metadata": {
    "scrolled": true
   },
   "outputs": [
    {
     "data": {
      "text/html": [
       "<div>\n",
       "<style scoped>\n",
       "    .dataframe tbody tr th:only-of-type {\n",
       "        vertical-align: middle;\n",
       "    }\n",
       "\n",
       "    .dataframe tbody tr th {\n",
       "        vertical-align: top;\n",
       "    }\n",
       "\n",
       "    .dataframe thead th {\n",
       "        text-align: right;\n",
       "    }\n",
       "</style>\n",
       "<table border=\"1\" class=\"dataframe\">\n",
       "  <thead>\n",
       "    <tr style=\"text-align: right;\">\n",
       "      <th></th>\n",
       "      <th>datum</th>\n",
       "      <th>vek</th>\n",
       "    </tr>\n",
       "  </thead>\n",
       "  <tbody>\n",
       "    <tr>\n",
       "      <th>0</th>\n",
       "      <td>2020-03-08</td>\n",
       "      <td>1</td>\n",
       "    </tr>\n",
       "    <tr>\n",
       "      <th>1</th>\n",
       "      <td>2020-03-10</td>\n",
       "      <td>2</td>\n",
       "    </tr>\n",
       "    <tr>\n",
       "      <th>2</th>\n",
       "      <td>2020-03-11</td>\n",
       "      <td>1</td>\n",
       "    </tr>\n",
       "    <tr>\n",
       "      <th>3</th>\n",
       "      <td>2020-03-13</td>\n",
       "      <td>2</td>\n",
       "    </tr>\n",
       "    <tr>\n",
       "      <th>4</th>\n",
       "      <td>2020-03-14</td>\n",
       "      <td>12</td>\n",
       "    </tr>\n",
       "  </tbody>\n",
       "</table>\n",
       "</div>"
      ],
      "text/plain": [
       "       datum  vek\n",
       "0 2020-03-08    1\n",
       "1 2020-03-10    2\n",
       "2 2020-03-11    1\n",
       "3 2020-03-13    2\n",
       "4 2020-03-14   12"
      ]
     },
     "execution_count": 8,
     "metadata": {},
     "output_type": "execute_result"
    }
   ],
   "source": [
    "df_Olo_byDate = df_Olo.groupby('datum', as_index=False).count()\n",
    "df_Olo_byDate.head()"
   ]
  },
  {
   "cell_type": "code",
   "execution_count": 9,
   "metadata": {},
   "outputs": [
    {
     "data": {
      "text/html": [
       "<div>\n",
       "<style scoped>\n",
       "    .dataframe tbody tr th:only-of-type {\n",
       "        vertical-align: middle;\n",
       "    }\n",
       "\n",
       "    .dataframe tbody tr th {\n",
       "        vertical-align: top;\n",
       "    }\n",
       "\n",
       "    .dataframe thead th {\n",
       "        text-align: right;\n",
       "    }\n",
       "</style>\n",
       "<table border=\"1\" class=\"dataframe\">\n",
       "  <thead>\n",
       "    <tr style=\"text-align: right;\">\n",
       "      <th></th>\n",
       "      <th>datum</th>\n",
       "      <th>number</th>\n",
       "    </tr>\n",
       "  </thead>\n",
       "  <tbody>\n",
       "    <tr>\n",
       "      <th>0</th>\n",
       "      <td>2020-03-08</td>\n",
       "      <td>1</td>\n",
       "    </tr>\n",
       "    <tr>\n",
       "      <th>1</th>\n",
       "      <td>2020-03-10</td>\n",
       "      <td>2</td>\n",
       "    </tr>\n",
       "    <tr>\n",
       "      <th>2</th>\n",
       "      <td>2020-03-11</td>\n",
       "      <td>1</td>\n",
       "    </tr>\n",
       "    <tr>\n",
       "      <th>3</th>\n",
       "      <td>2020-03-13</td>\n",
       "      <td>2</td>\n",
       "    </tr>\n",
       "    <tr>\n",
       "      <th>4</th>\n",
       "      <td>2020-03-14</td>\n",
       "      <td>12</td>\n",
       "    </tr>\n",
       "  </tbody>\n",
       "</table>\n",
       "</div>"
      ],
      "text/plain": [
       "       datum  number\n",
       "0 2020-03-08       1\n",
       "1 2020-03-10       2\n",
       "2 2020-03-11       1\n",
       "3 2020-03-13       2\n",
       "4 2020-03-14      12"
      ]
     },
     "execution_count": 9,
     "metadata": {},
     "output_type": "execute_result"
    }
   ],
   "source": [
    "df_Olo_byDate = df_Olo_byDate.rename(columns={'vek':'number'})\n",
    "df_Olo_byDate.head()"
   ]
  },
  {
   "cell_type": "code",
   "execution_count": 10,
   "metadata": {},
   "outputs": [
    {
     "data": {
      "text/plain": [
       "datum     datetime64[ns]\n",
       "number             int64\n",
       "dtype: object"
      ]
     },
     "execution_count": 10,
     "metadata": {},
     "output_type": "execute_result"
    }
   ],
   "source": [
    "df_Olo_byDate.dtypes"
   ]
  },
  {
   "cell_type": "code",
   "execution_count": 11,
   "metadata": {},
   "outputs": [
    {
     "data": {
      "text/plain": [
       "Text(0.5, 0, 'Datum')"
      ]
     },
     "execution_count": 11,
     "metadata": {},
     "output_type": "execute_result"
    },
    {
     "data": {
      "image/png": "[encoded data removed]",
      "text/plain": [
       "<Figure size 432x288 with 1 Axes>"
      ]
     },
     "metadata": {
      "needs_background": "light"
     },
     "output_type": "display_data"
    }
   ],
   "source": [
    "plt.plot(df_Olo_byDate['datum'], df_Olo_byDate['number'], 'b--')\n",
    "plt.title('Daily number of new sick people in Olomouc')\n",
    "plt.ylabel('Daily number of sick people')\n",
    "plt.xlabel('Datum')"
   ]
  },
  {
   "cell_type": "markdown",
   "metadata": {},
   "source": [
    "# How many cases are in Prague?"
   ]
  },
  {
   "cell_type": "code",
   "execution_count": 12,
   "metadata": {},
   "outputs": [
    {
     "data": {
      "text/html": [
       "<div>\n",
       "<style scoped>\n",
       "    .dataframe tbody tr th:only-of-type {\n",
       "        vertical-align: middle;\n",
       "    }\n",
       "\n",
       "    .dataframe tbody tr th {\n",
       "        vertical-align: top;\n",
       "    }\n",
       "\n",
       "    .dataframe thead th {\n",
       "        text-align: right;\n",
       "    }\n",
       "</style>\n",
       "<table border=\"1\" class=\"dataframe\">\n",
       "  <thead>\n",
       "    <tr style=\"text-align: right;\">\n",
       "      <th></th>\n",
       "      <th>datum</th>\n",
       "      <th>number</th>\n",
       "    </tr>\n",
       "  </thead>\n",
       "  <tbody>\n",
       "    <tr>\n",
       "      <th>0</th>\n",
       "      <td>2020-03-01</td>\n",
       "      <td>2</td>\n",
       "    </tr>\n",
       "    <tr>\n",
       "      <th>1</th>\n",
       "      <td>2020-03-04</td>\n",
       "      <td>1</td>\n",
       "    </tr>\n",
       "    <tr>\n",
       "      <th>2</th>\n",
       "      <td>2020-03-06</td>\n",
       "      <td>8</td>\n",
       "    </tr>\n",
       "    <tr>\n",
       "      <th>3</th>\n",
       "      <td>2020-03-07</td>\n",
       "      <td>4</td>\n",
       "    </tr>\n",
       "    <tr>\n",
       "      <th>4</th>\n",
       "      <td>2020-03-09</td>\n",
       "      <td>4</td>\n",
       "    </tr>\n",
       "  </tbody>\n",
       "</table>\n",
       "</div>"
      ],
      "text/plain": [
       "       datum  number\n",
       "0 2020-03-01       2\n",
       "1 2020-03-04       1\n",
       "2 2020-03-06       8\n",
       "3 2020-03-07       4\n",
       "4 2020-03-09       4"
      ]
     },
     "execution_count": 12,
     "metadata": {},
     "output_type": "execute_result"
    }
   ],
   "source": [
    "df_Prg = df.loc[df['okres_lau_kod'] == lau_Prg]\n",
    "df_Prg = df_Prg.drop(columns=['okres_lau_kod'])\n",
    "df_Prg['datum'] = df_Prg['datum'].apply(pd.to_datetime)\n",
    "\n",
    "df_Prg_byDate = df_Prg.groupby('datum', as_index=False).count()\n",
    "df_Prg_byDate = df_Prg_byDate.rename(columns={'vek':'number'})\n",
    "df_Prg_byDate.head()"
   ]
  },
  {
   "cell_type": "code",
   "execution_count": 13,
   "metadata": {},
   "outputs": [
    {
     "data": {
      "text/plain": [
       "datum     datetime64[ns]\n",
       "number             int64\n",
       "dtype: object"
      ]
     },
     "execution_count": 13,
     "metadata": {},
     "output_type": "execute_result"
    }
   ],
   "source": [
    "df_Prg_byDate.dtypes"
   ]
  },
  {
   "cell_type": "code",
   "execution_count": 14,
   "metadata": {},
   "outputs": [
    {
     "data": {
      "text/plain": [
       "Text(0.5, 0, 'Date')"
      ]
     },
     "execution_count": 14,
     "metadata": {},
     "output_type": "execute_result"
    },
    {
     "data": {
      "image/png": "[encoded data removed]",
      "text/plain": [
       "<Figure size 432x288 with 1 Axes>"
      ]
     },
     "metadata": {
      "needs_background": "light"
     },
     "output_type": "display_data"
    }
   ],
   "source": [
    "plt.plot(df_Prg_byDate['datum'], df_Prg_byDate['number'], 'r')\n",
    "plt.title('Daily number of new sick people in Prague')\n",
    "plt.ylabel('Daily number of sick people')\n",
    "plt.xlabel('Date')"
   ]
  },
  {
   "cell_type": "markdown",
   "metadata": {},
   "source": [
    "# Visualise both in one graph"
   ]
  },
  {
   "cell_type": "code",
   "execution_count": 15,
   "metadata": {
    "scrolled": true
   },
   "outputs": [
    {
     "data": {
      "text/plain": [
       "Text(0.5, 0, 'Date')"
      ]
     },
     "execution_count": 15,
     "metadata": {},
     "output_type": "execute_result"
    },
    {
     "data": {
      "image/png": "[encoded data removed]",
      "text/plain": [
       "<Figure size 432x288 with 1 Axes>"
      ]
     },
     "metadata": {
      "needs_background": "light"
     },
     "output_type": "display_data"
    }
   ],
   "source": [
    "plt.plot(df_Prg_byDate['datum'], df_Prg_byDate['number'], 'r', df_Olo_byDate['datum'], df_Olo_byDate['number'], 'b--')\n",
    "plt.title('Daily number of new sick people in Prague and Olomouc')\n",
    "plt.ylabel('Daily number of sick people')\n",
    "plt.xlabel('Date')"
   ]
  },
  {
   "cell_type": "markdown",
   "metadata": {},
   "source": [
    "plot with a legend:"
   ]
  },
  {
   "cell_type": "code",
   "execution_count": 16,
   "metadata": {},
   "outputs": [
    {
     "data": {
      "image/png": "[encoded data removed]",
      "text/plain": [
       "<Figure size 432x288 with 1 Axes>"
      ]
     },
     "metadata": {
      "needs_background": "light"
     },
     "output_type": "display_data"
    }
   ],
   "source": [
    "fig, ax = plt.subplots()\n",
    "ax.plot(df_Prg_byDate['datum'], df_Prg_byDate['number'], 'r', label='Prague')\n",
    "ax.plot(df_Olo_byDate['datum'], df_Olo_byDate['number'], 'b--', label='Olomouc')\n",
    "\n",
    "legend = ax.legend(loc='upper left', shadow=True, fontsize='large')\n",
    "\n",
    "plt.title('Daily number of new sick people in Prague and Olomouc')\n",
    "plt.xlabel('Date')\n",
    "plt.ylabel('Daily number of sick people')\n",
    "\n",
    "plt.show()"
   ]
  },
  {
   "cell_type": "markdown",
   "metadata": {},
   "source": [
    "# Adjust the numbers by population size"
   ]
  },
  {
   "cell_type": "code",
   "execution_count": 17,
   "metadata": {},
   "outputs": [
    {
     "data": {
      "text/html": [
       "<div>\n",
       "<style scoped>\n",
       "    .dataframe tbody tr th:only-of-type {\n",
       "        vertical-align: middle;\n",
       "    }\n",
       "\n",
       "    .dataframe tbody tr th {\n",
       "        vertical-align: top;\n",
       "    }\n",
       "\n",
       "    .dataframe thead th {\n",
       "        text-align: right;\n",
       "    }\n",
       "</style>\n",
       "<table border=\"1\" class=\"dataframe\">\n",
       "  <thead>\n",
       "    <tr style=\"text-align: right;\">\n",
       "      <th></th>\n",
       "      <th>datum</th>\n",
       "      <th>number</th>\n",
       "    </tr>\n",
       "  </thead>\n",
       "  <tbody>\n",
       "    <tr>\n",
       "      <th>0</th>\n",
       "      <td>2020-03-08</td>\n",
       "      <td>1</td>\n",
       "    </tr>\n",
       "    <tr>\n",
       "      <th>1</th>\n",
       "      <td>2020-03-10</td>\n",
       "      <td>2</td>\n",
       "    </tr>\n",
       "    <tr>\n",
       "      <th>2</th>\n",
       "      <td>2020-03-11</td>\n",
       "      <td>1</td>\n",
       "    </tr>\n",
       "    <tr>\n",
       "      <th>3</th>\n",
       "      <td>2020-03-13</td>\n",
       "      <td>2</td>\n",
       "    </tr>\n",
       "    <tr>\n",
       "      <th>4</th>\n",
       "      <td>2020-03-14</td>\n",
       "      <td>12</td>\n",
       "    </tr>\n",
       "  </tbody>\n",
       "</table>\n",
       "</div>"
      ],
      "text/plain": [
       "       datum  number\n",
       "0 2020-03-08       1\n",
       "1 2020-03-10       2\n",
       "2 2020-03-11       1\n",
       "3 2020-03-13       2\n",
       "4 2020-03-14      12"
      ]
     },
     "execution_count": 17,
     "metadata": {},
     "output_type": "execute_result"
    }
   ],
   "source": [
    "df_Olo_byDate.head()"
   ]
  },
  {
   "cell_type": "code",
   "execution_count": 18,
   "metadata": {},
   "outputs": [
    {
     "data": {
      "text/plain": [
       "datum     datetime64[ns]\n",
       "number             int64\n",
       "dtype: object"
      ]
     },
     "execution_count": 18,
     "metadata": {},
     "output_type": "execute_result"
    }
   ],
   "source": [
    "df_Olo_byDate.dtypes"
   ]
  },
  {
   "cell_type": "code",
   "execution_count": 19,
   "metadata": {},
   "outputs": [
    {
     "data": {
      "text/html": [
       "<div>\n",
       "<style scoped>\n",
       "    .dataframe tbody tr th:only-of-type {\n",
       "        vertical-align: middle;\n",
       "    }\n",
       "\n",
       "    .dataframe tbody tr th {\n",
       "        vertical-align: top;\n",
       "    }\n",
       "\n",
       "    .dataframe thead th {\n",
       "        text-align: right;\n",
       "    }\n",
       "</style>\n",
       "<table border=\"1\" class=\"dataframe\">\n",
       "  <thead>\n",
       "    <tr style=\"text-align: right;\">\n",
       "      <th></th>\n",
       "      <th>datum</th>\n",
       "      <th>number</th>\n",
       "      <th>number_adjusted</th>\n",
       "    </tr>\n",
       "  </thead>\n",
       "  <tbody>\n",
       "    <tr>\n",
       "      <th>0</th>\n",
       "      <td>2020-03-08</td>\n",
       "      <td>1</td>\n",
       "      <td>0.000004</td>\n",
       "    </tr>\n",
       "    <tr>\n",
       "      <th>1</th>\n",
       "      <td>2020-03-10</td>\n",
       "      <td>2</td>\n",
       "      <td>0.000009</td>\n",
       "    </tr>\n",
       "    <tr>\n",
       "      <th>2</th>\n",
       "      <td>2020-03-11</td>\n",
       "      <td>1</td>\n",
       "      <td>0.000004</td>\n",
       "    </tr>\n",
       "    <tr>\n",
       "      <th>3</th>\n",
       "      <td>2020-03-13</td>\n",
       "      <td>2</td>\n",
       "      <td>0.000009</td>\n",
       "    </tr>\n",
       "    <tr>\n",
       "      <th>4</th>\n",
       "      <td>2020-03-14</td>\n",
       "      <td>12</td>\n",
       "      <td>0.000051</td>\n",
       "    </tr>\n",
       "  </tbody>\n",
       "</table>\n",
       "</div>"
      ],
      "text/plain": [
       "       datum  number  number_adjusted\n",
       "0 2020-03-08       1         0.000004\n",
       "1 2020-03-10       2         0.000009\n",
       "2 2020-03-11       1         0.000004\n",
       "3 2020-03-13       2         0.000009\n",
       "4 2020-03-14      12         0.000051"
      ]
     },
     "execution_count": 19,
     "metadata": {},
     "output_type": "execute_result"
    }
   ],
   "source": [
    "df_Olo_byDate['number_adjusted'] = df_Olo_byDate['number'] / pop_Olo\n",
    "df_Olo_byDate.head()"
   ]
  },
  {
   "cell_type": "code",
   "execution_count": 20,
   "metadata": {},
   "outputs": [
    {
     "data": {
      "text/html": [
       "<div>\n",
       "<style scoped>\n",
       "    .dataframe tbody tr th:only-of-type {\n",
       "        vertical-align: middle;\n",
       "    }\n",
       "\n",
       "    .dataframe tbody tr th {\n",
       "        vertical-align: top;\n",
       "    }\n",
       "\n",
       "    .dataframe thead th {\n",
       "        text-align: right;\n",
       "    }\n",
       "</style>\n",
       "<table border=\"1\" class=\"dataframe\">\n",
       "  <thead>\n",
       "    <tr style=\"text-align: right;\">\n",
       "      <th></th>\n",
       "      <th>datum</th>\n",
       "      <th>number</th>\n",
       "      <th>number_adjusted</th>\n",
       "    </tr>\n",
       "  </thead>\n",
       "  <tbody>\n",
       "    <tr>\n",
       "      <th>0</th>\n",
       "      <td>2020-03-01</td>\n",
       "      <td>2</td>\n",
       "      <td>1.527884e-06</td>\n",
       "    </tr>\n",
       "    <tr>\n",
       "      <th>1</th>\n",
       "      <td>2020-03-04</td>\n",
       "      <td>1</td>\n",
       "      <td>7.639419e-07</td>\n",
       "    </tr>\n",
       "    <tr>\n",
       "      <th>2</th>\n",
       "      <td>2020-03-06</td>\n",
       "      <td>8</td>\n",
       "      <td>6.111536e-06</td>\n",
       "    </tr>\n",
       "    <tr>\n",
       "      <th>3</th>\n",
       "      <td>2020-03-07</td>\n",
       "      <td>4</td>\n",
       "      <td>3.055768e-06</td>\n",
       "    </tr>\n",
       "    <tr>\n",
       "      <th>4</th>\n",
       "      <td>2020-03-09</td>\n",
       "      <td>4</td>\n",
       "      <td>3.055768e-06</td>\n",
       "    </tr>\n",
       "  </tbody>\n",
       "</table>\n",
       "</div>"
      ],
      "text/plain": [
       "       datum  number  number_adjusted\n",
       "0 2020-03-01       2     1.527884e-06\n",
       "1 2020-03-04       1     7.639419e-07\n",
       "2 2020-03-06       8     6.111536e-06\n",
       "3 2020-03-07       4     3.055768e-06\n",
       "4 2020-03-09       4     3.055768e-06"
      ]
     },
     "execution_count": 20,
     "metadata": {},
     "output_type": "execute_result"
    }
   ],
   "source": [
    "df_Prg_byDate['number_adjusted'] = df_Prg_byDate['number'] / pop_Prg\n",
    "df_Prg_byDate.head()"
   ]
  },
  {
   "cell_type": "code",
   "execution_count": 21,
   "metadata": {},
   "outputs": [
    {
     "data": {
      "image/png": "[encoded data removed]",
      "text/plain": [
       "<Figure size 432x288 with 1 Axes>"
      ]
     },
     "metadata": {
      "needs_background": "light"
     },
     "output_type": "display_data"
    }
   ],
   "source": [
    "fig, ax = plt.subplots()\n",
    "ax.plot(df_Prg_byDate['datum'], df_Prg_byDate['number_adjusted'], 'r', label='Prague')\n",
    "ax.plot(df_Olo_byDate['datum'], df_Olo_byDate['number_adjusted'], 'b--', label='Olomouc')\n",
    "\n",
    "legend = ax.legend(loc='upper left', shadow=True, fontsize='large')\n",
    "\n",
    "plt.title('Daily number of new sick people in Prague and Olomouc adjusted by population')\n",
    "plt.xlabel('Date')\n",
    "plt.ylabel('Daily number of sick people')\n",
    "\n",
    "plt.show()"
   ]
  },
  {
   "cell_type": "markdown",
   "metadata": {},
   "source": [
    "# Is this significantly similar? A: Yes."
   ]
  },
  {
   "cell_type": "code",
   "execution_count": 22,
   "metadata": {},
   "outputs": [
    {
     "name": "stdout",
     "output_type": "stream",
     "text": [
      "221 161\n"
     ]
    }
   ],
   "source": [
    "print(len(df_Prg_byDate.index), len(df_Olo_byDate.index))"
   ]
  },
  {
   "cell_type": "code",
   "execution_count": 23,
   "metadata": {
    "scrolled": true
   },
   "outputs": [
    {
     "data": {
      "text/html": [
       "<div>\n",
       "<style scoped>\n",
       "    .dataframe tbody tr th:only-of-type {\n",
       "        vertical-align: middle;\n",
       "    }\n",
       "\n",
       "    .dataframe tbody tr th {\n",
       "        vertical-align: top;\n",
       "    }\n",
       "\n",
       "    .dataframe thead th {\n",
       "        text-align: right;\n",
       "    }\n",
       "</style>\n",
       "<table border=\"1\" class=\"dataframe\">\n",
       "  <thead>\n",
       "    <tr style=\"text-align: right;\">\n",
       "      <th></th>\n",
       "      <th>datum</th>\n",
       "      <th>number_Olo</th>\n",
       "      <th>number_adjusted_Olo</th>\n",
       "    </tr>\n",
       "  </thead>\n",
       "  <tbody>\n",
       "    <tr>\n",
       "      <th>0</th>\n",
       "      <td>2020-03-08</td>\n",
       "      <td>1</td>\n",
       "      <td>0.000004</td>\n",
       "    </tr>\n",
       "    <tr>\n",
       "      <th>1</th>\n",
       "      <td>2020-03-10</td>\n",
       "      <td>2</td>\n",
       "      <td>0.000009</td>\n",
       "    </tr>\n",
       "    <tr>\n",
       "      <th>2</th>\n",
       "      <td>2020-03-11</td>\n",
       "      <td>1</td>\n",
       "      <td>0.000004</td>\n",
       "    </tr>\n",
       "    <tr>\n",
       "      <th>3</th>\n",
       "      <td>2020-03-13</td>\n",
       "      <td>2</td>\n",
       "      <td>0.000009</td>\n",
       "    </tr>\n",
       "    <tr>\n",
       "      <th>4</th>\n",
       "      <td>2020-03-14</td>\n",
       "      <td>12</td>\n",
       "      <td>0.000051</td>\n",
       "    </tr>\n",
       "  </tbody>\n",
       "</table>\n",
       "</div>"
      ],
      "text/plain": [
       "       datum  number_Olo  number_adjusted_Olo\n",
       "0 2020-03-08           1             0.000004\n",
       "1 2020-03-10           2             0.000009\n",
       "2 2020-03-11           1             0.000004\n",
       "3 2020-03-13           2             0.000009\n",
       "4 2020-03-14          12             0.000051"
      ]
     },
     "execution_count": 23,
     "metadata": {},
     "output_type": "execute_result"
    }
   ],
   "source": [
    "df_Olo_byDate = df_Olo_byDate.rename(columns={'number':'number_Olo', 'number_adjusted':'number_adjusted_Olo'})\n",
    "df_Olo_byDate.head()"
   ]
  },
  {
   "cell_type": "code",
   "execution_count": 24,
   "metadata": {},
   "outputs": [
    {
     "data": {
      "text/html": [
       "<div>\n",
       "<style scoped>\n",
       "    .dataframe tbody tr th:only-of-type {\n",
       "        vertical-align: middle;\n",
       "    }\n",
       "\n",
       "    .dataframe tbody tr th {\n",
       "        vertical-align: top;\n",
       "    }\n",
       "\n",
       "    .dataframe thead th {\n",
       "        text-align: right;\n",
       "    }\n",
       "</style>\n",
       "<table border=\"1\" class=\"dataframe\">\n",
       "  <thead>\n",
       "    <tr style=\"text-align: right;\">\n",
       "      <th></th>\n",
       "      <th>datum</th>\n",
       "      <th>number_Prg</th>\n",
       "      <th>number_adjusted_Prg</th>\n",
       "    </tr>\n",
       "  </thead>\n",
       "  <tbody>\n",
       "    <tr>\n",
       "      <th>0</th>\n",
       "      <td>2020-03-01</td>\n",
       "      <td>2</td>\n",
       "      <td>1.527884e-06</td>\n",
       "    </tr>\n",
       "    <tr>\n",
       "      <th>1</th>\n",
       "      <td>2020-03-04</td>\n",
       "      <td>1</td>\n",
       "      <td>7.639419e-07</td>\n",
       "    </tr>\n",
       "    <tr>\n",
       "      <th>2</th>\n",
       "      <td>2020-03-06</td>\n",
       "      <td>8</td>\n",
       "      <td>6.111536e-06</td>\n",
       "    </tr>\n",
       "    <tr>\n",
       "      <th>3</th>\n",
       "      <td>2020-03-07</td>\n",
       "      <td>4</td>\n",
       "      <td>3.055768e-06</td>\n",
       "    </tr>\n",
       "    <tr>\n",
       "      <th>4</th>\n",
       "      <td>2020-03-09</td>\n",
       "      <td>4</td>\n",
       "      <td>3.055768e-06</td>\n",
       "    </tr>\n",
       "  </tbody>\n",
       "</table>\n",
       "</div>"
      ],
      "text/plain": [
       "       datum  number_Prg  number_adjusted_Prg\n",
       "0 2020-03-01           2         1.527884e-06\n",
       "1 2020-03-04           1         7.639419e-07\n",
       "2 2020-03-06           8         6.111536e-06\n",
       "3 2020-03-07           4         3.055768e-06\n",
       "4 2020-03-09           4         3.055768e-06"
      ]
     },
     "execution_count": 24,
     "metadata": {},
     "output_type": "execute_result"
    }
   ],
   "source": [
    "df_Prg_byDate = df_Prg_byDate.rename(columns={'number':'number_Prg', 'number_adjusted':'number_adjusted_Prg'})\n",
    "df_Prg_byDate.head()"
   ]
  },
  {
   "cell_type": "code",
   "execution_count": 25,
   "metadata": {
    "scrolled": false
   },
   "outputs": [
    {
     "data": {
      "text/html": [
       "<div>\n",
       "<style scoped>\n",
       "    .dataframe tbody tr th:only-of-type {\n",
       "        vertical-align: middle;\n",
       "    }\n",
       "\n",
       "    .dataframe tbody tr th {\n",
       "        vertical-align: top;\n",
       "    }\n",
       "\n",
       "    .dataframe thead th {\n",
       "        text-align: right;\n",
       "    }\n",
       "</style>\n",
       "<table border=\"1\" class=\"dataframe\">\n",
       "  <thead>\n",
       "    <tr style=\"text-align: right;\">\n",
       "      <th></th>\n",
       "      <th>datum</th>\n",
       "      <th>number_Prg</th>\n",
       "      <th>number_adjusted_Prg</th>\n",
       "      <th>datum</th>\n",
       "      <th>number_Olo</th>\n",
       "      <th>number_adjusted_Olo</th>\n",
       "    </tr>\n",
       "  </thead>\n",
       "  <tbody>\n",
       "    <tr>\n",
       "      <th>0</th>\n",
       "      <td>2020-03-01</td>\n",
       "      <td>2</td>\n",
       "      <td>1.527884e-06</td>\n",
       "      <td>2020-03-08</td>\n",
       "      <td>1.0</td>\n",
       "      <td>0.000004</td>\n",
       "    </tr>\n",
       "    <tr>\n",
       "      <th>1</th>\n",
       "      <td>2020-03-04</td>\n",
       "      <td>1</td>\n",
       "      <td>7.639419e-07</td>\n",
       "      <td>2020-03-10</td>\n",
       "      <td>2.0</td>\n",
       "      <td>0.000009</td>\n",
       "    </tr>\n",
       "    <tr>\n",
       "      <th>2</th>\n",
       "      <td>2020-03-06</td>\n",
       "      <td>8</td>\n",
       "      <td>6.111536e-06</td>\n",
       "      <td>2020-03-11</td>\n",
       "      <td>1.0</td>\n",
       "      <td>0.000004</td>\n",
       "    </tr>\n",
       "    <tr>\n",
       "      <th>3</th>\n",
       "      <td>2020-03-07</td>\n",
       "      <td>4</td>\n",
       "      <td>3.055768e-06</td>\n",
       "      <td>2020-03-13</td>\n",
       "      <td>2.0</td>\n",
       "      <td>0.000009</td>\n",
       "    </tr>\n",
       "    <tr>\n",
       "      <th>4</th>\n",
       "      <td>2020-03-09</td>\n",
       "      <td>4</td>\n",
       "      <td>3.055768e-06</td>\n",
       "      <td>2020-03-14</td>\n",
       "      <td>12.0</td>\n",
       "      <td>0.000051</td>\n",
       "    </tr>\n",
       "  </tbody>\n",
       "</table>\n",
       "</div>"
      ],
      "text/plain": [
       "       datum  number_Prg  number_adjusted_Prg      datum  number_Olo  \\\n",
       "0 2020-03-01           2         1.527884e-06 2020-03-08         1.0   \n",
       "1 2020-03-04           1         7.639419e-07 2020-03-10         2.0   \n",
       "2 2020-03-06           8         6.111536e-06 2020-03-11         1.0   \n",
       "3 2020-03-07           4         3.055768e-06 2020-03-13         2.0   \n",
       "4 2020-03-09           4         3.055768e-06 2020-03-14        12.0   \n",
       "\n",
       "   number_adjusted_Olo  \n",
       "0             0.000004  \n",
       "1             0.000009  \n",
       "2             0.000004  \n",
       "3             0.000009  \n",
       "4             0.000051  "
      ]
     },
     "execution_count": 25,
     "metadata": {},
     "output_type": "execute_result"
    }
   ],
   "source": [
    "df_merged = pd.concat([df_Prg_byDate, df_Olo_byDate], axis=1, sort=False)\n",
    "\n",
    "df_merged.head()"
   ]
  },
  {
   "cell_type": "code",
   "execution_count": 26,
   "metadata": {
    "scrolled": true
   },
   "outputs": [
    {
     "data": {
      "text/plain": [
       "221"
      ]
     },
     "execution_count": 26,
     "metadata": {},
     "output_type": "execute_result"
    }
   ],
   "source": [
    "len(df_merged)"
   ]
  },
  {
   "cell_type": "code",
   "execution_count": 27,
   "metadata": {},
   "outputs": [
    {
     "data": {
      "text/plain": [
       "datum                   0\n",
       "number_Prg              0\n",
       "number_adjusted_Prg     0\n",
       "datum                  60\n",
       "number_Olo             60\n",
       "number_adjusted_Olo    60\n",
       "dtype: int64"
      ]
     },
     "execution_count": 27,
     "metadata": {},
     "output_type": "execute_result"
    }
   ],
   "source": [
    "df_merged.isnull().sum()"
   ]
  },
  {
   "cell_type": "code",
   "execution_count": 28,
   "metadata": {
    "scrolled": true
   },
   "outputs": [
    {
     "data": {
      "text/html": [
       "<div>\n",
       "<style scoped>\n",
       "    .dataframe tbody tr th:only-of-type {\n",
       "        vertical-align: middle;\n",
       "    }\n",
       "\n",
       "    .dataframe tbody tr th {\n",
       "        vertical-align: top;\n",
       "    }\n",
       "\n",
       "    .dataframe thead th {\n",
       "        text-align: right;\n",
       "    }\n",
       "</style>\n",
       "<table border=\"1\" class=\"dataframe\">\n",
       "  <thead>\n",
       "    <tr style=\"text-align: right;\">\n",
       "      <th></th>\n",
       "      <th>number_Prg</th>\n",
       "      <th>number_adjusted_Prg</th>\n",
       "      <th>number_Olo</th>\n",
       "      <th>number_adjusted_Olo</th>\n",
       "    </tr>\n",
       "  </thead>\n",
       "  <tbody>\n",
       "    <tr>\n",
       "      <th>number_Prg</th>\n",
       "      <td>1.000000</td>\n",
       "      <td>1.000000</td>\n",
       "      <td>0.530691</td>\n",
       "      <td>0.530691</td>\n",
       "    </tr>\n",
       "    <tr>\n",
       "      <th>number_adjusted_Prg</th>\n",
       "      <td>1.000000</td>\n",
       "      <td>1.000000</td>\n",
       "      <td>0.530691</td>\n",
       "      <td>0.530691</td>\n",
       "    </tr>\n",
       "    <tr>\n",
       "      <th>number_Olo</th>\n",
       "      <td>0.530691</td>\n",
       "      <td>0.530691</td>\n",
       "      <td>1.000000</td>\n",
       "      <td>1.000000</td>\n",
       "    </tr>\n",
       "    <tr>\n",
       "      <th>number_adjusted_Olo</th>\n",
       "      <td>0.530691</td>\n",
       "      <td>0.530691</td>\n",
       "      <td>1.000000</td>\n",
       "      <td>1.000000</td>\n",
       "    </tr>\n",
       "  </tbody>\n",
       "</table>\n",
       "</div>"
      ],
      "text/plain": [
       "                     number_Prg  number_adjusted_Prg  number_Olo  \\\n",
       "number_Prg             1.000000             1.000000    0.530691   \n",
       "number_adjusted_Prg    1.000000             1.000000    0.530691   \n",
       "number_Olo             0.530691             0.530691    1.000000   \n",
       "number_adjusted_Olo    0.530691             0.530691    1.000000   \n",
       "\n",
       "                     number_adjusted_Olo  \n",
       "number_Prg                      0.530691  \n",
       "number_adjusted_Prg             0.530691  \n",
       "number_Olo                      1.000000  \n",
       "number_adjusted_Olo             1.000000  "
      ]
     },
     "execution_count": 28,
     "metadata": {},
     "output_type": "execute_result"
    }
   ],
   "source": [
    "df_merged.corr()"
   ]
  },
  {
   "cell_type": "code",
   "execution_count": 29,
   "metadata": {},
   "outputs": [
    {
     "data": {
      "image/png": "[encoded data removed]",
      "text/plain": [
       "<Figure size 432x288 with 2 Axes>"
      ]
     },
     "metadata": {
      "needs_background": "light"
     },
     "output_type": "display_data"
    }
   ],
   "source": [
    "import seaborn as sn\n",
    "corrMatrix = df_merged.corr()\n",
    "sn.heatmap(corrMatrix, annot=True)\n",
    "plt.show()"
   ]
  },
  {
   "cell_type": "code",
   "execution_count": 30,
   "metadata": {},
   "outputs": [
    {
     "data": {
      "text/html": [
       "<div>\n",
       "<style scoped>\n",
       "    .dataframe tbody tr th:only-of-type {\n",
       "        vertical-align: middle;\n",
       "    }\n",
       "\n",
       "    .dataframe tbody tr th {\n",
       "        vertical-align: top;\n",
       "    }\n",
       "\n",
       "    .dataframe thead th {\n",
       "        text-align: right;\n",
       "    }\n",
       "</style>\n",
       "<table border=\"1\" class=\"dataframe\">\n",
       "  <thead>\n",
       "    <tr style=\"text-align: right;\">\n",
       "      <th></th>\n",
       "      <th>number_adjusted_Prg</th>\n",
       "      <th>number_adjusted_Olo</th>\n",
       "    </tr>\n",
       "  </thead>\n",
       "  <tbody>\n",
       "    <tr>\n",
       "      <th>0</th>\n",
       "      <td>1.527884e-06</td>\n",
       "      <td>0.000004</td>\n",
       "    </tr>\n",
       "    <tr>\n",
       "      <th>1</th>\n",
       "      <td>7.639419e-07</td>\n",
       "      <td>0.000009</td>\n",
       "    </tr>\n",
       "    <tr>\n",
       "      <th>2</th>\n",
       "      <td>6.111536e-06</td>\n",
       "      <td>0.000004</td>\n",
       "    </tr>\n",
       "    <tr>\n",
       "      <th>3</th>\n",
       "      <td>3.055768e-06</td>\n",
       "      <td>0.000009</td>\n",
       "    </tr>\n",
       "    <tr>\n",
       "      <th>4</th>\n",
       "      <td>3.055768e-06</td>\n",
       "      <td>0.000051</td>\n",
       "    </tr>\n",
       "    <tr>\n",
       "      <th>5</th>\n",
       "      <td>9.167303e-06</td>\n",
       "      <td>0.000043</td>\n",
       "    </tr>\n",
       "    <tr>\n",
       "      <th>6</th>\n",
       "      <td>4.583652e-06</td>\n",
       "      <td>0.000026</td>\n",
       "    </tr>\n",
       "    <tr>\n",
       "      <th>7</th>\n",
       "      <td>9.167303e-06</td>\n",
       "      <td>0.000034</td>\n",
       "    </tr>\n",
       "    <tr>\n",
       "      <th>8</th>\n",
       "      <td>5.347594e-06</td>\n",
       "      <td>0.000060</td>\n",
       "    </tr>\n",
       "    <tr>\n",
       "      <th>9</th>\n",
       "      <td>1.145913e-05</td>\n",
       "      <td>0.000017</td>\n",
       "    </tr>\n",
       "  </tbody>\n",
       "</table>\n",
       "</div>"
      ],
      "text/plain": [
       "   number_adjusted_Prg  number_adjusted_Olo\n",
       "0         1.527884e-06             0.000004\n",
       "1         7.639419e-07             0.000009\n",
       "2         6.111536e-06             0.000004\n",
       "3         3.055768e-06             0.000009\n",
       "4         3.055768e-06             0.000051\n",
       "5         9.167303e-06             0.000043\n",
       "6         4.583652e-06             0.000026\n",
       "7         9.167303e-06             0.000034\n",
       "8         5.347594e-06             0.000060\n",
       "9         1.145913e-05             0.000017"
      ]
     },
     "execution_count": 30,
     "metadata": {},
     "output_type": "execute_result"
    }
   ],
   "source": [
    "df_merged_clean = df_merged[['number_adjusted_Prg', 'number_adjusted_Olo']]\n",
    "df_merged_clean.head(10)"
   ]
  },
  {
   "cell_type": "code",
   "execution_count": 31,
   "metadata": {},
   "outputs": [
    {
     "data": {
      "text/html": [
       "<div>\n",
       "<style scoped>\n",
       "    .dataframe tbody tr th:only-of-type {\n",
       "        vertical-align: middle;\n",
       "    }\n",
       "\n",
       "    .dataframe tbody tr th {\n",
       "        vertical-align: top;\n",
       "    }\n",
       "\n",
       "    .dataframe thead th {\n",
       "        text-align: right;\n",
       "    }\n",
       "</style>\n",
       "<table border=\"1\" class=\"dataframe\">\n",
       "  <thead>\n",
       "    <tr style=\"text-align: right;\">\n",
       "      <th></th>\n",
       "      <th>number_adjusted_Prg</th>\n",
       "      <th>number_adjusted_Olo</th>\n",
       "    </tr>\n",
       "  </thead>\n",
       "  <tbody>\n",
       "    <tr>\n",
       "      <th>number_adjusted_Prg</th>\n",
       "      <td>1.000000</td>\n",
       "      <td>0.530691</td>\n",
       "    </tr>\n",
       "    <tr>\n",
       "      <th>number_adjusted_Olo</th>\n",
       "      <td>0.530691</td>\n",
       "      <td>1.000000</td>\n",
       "    </tr>\n",
       "  </tbody>\n",
       "</table>\n",
       "</div>"
      ],
      "text/plain": [
       "                     number_adjusted_Prg  number_adjusted_Olo\n",
       "number_adjusted_Prg             1.000000             0.530691\n",
       "number_adjusted_Olo             0.530691             1.000000"
      ]
     },
     "execution_count": 31,
     "metadata": {},
     "output_type": "execute_result"
    }
   ],
   "source": [
    "df_merged_clean.corr()"
   ]
  },
  {
   "cell_type": "code",
   "execution_count": 32,
   "metadata": {},
   "outputs": [
    {
     "data": {
      "image/png": "[encoded data removed]",
      "text/plain": [
       "<Figure size 432x288 with 2 Axes>"
      ]
     },
     "metadata": {
      "needs_background": "light"
     },
     "output_type": "display_data"
    }
   ],
   "source": [
    "import seaborn as sn\n",
    "corrMatrix = df_merged_clean.corr()\n",
    "sn.heatmap(corrMatrix, annot=True)\n",
    "plt.show()"
   ]
  },
  {
   "cell_type": "code",
   "execution_count": 33,
   "metadata": {},
   "outputs": [
    {
     "data": {
      "text/html": [
       "<div>\n",
       "<style scoped>\n",
       "    .dataframe tbody tr th:only-of-type {\n",
       "        vertical-align: middle;\n",
       "    }\n",
       "\n",
       "    .dataframe tbody tr th {\n",
       "        vertical-align: top;\n",
       "    }\n",
       "\n",
       "    .dataframe thead th {\n",
       "        text-align: right;\n",
       "    }\n",
       "</style>\n",
       "<table border=\"1\" class=\"dataframe\">\n",
       "  <thead>\n",
       "    <tr style=\"text-align: right;\">\n",
       "      <th></th>\n",
       "      <th>number_adjusted_Prg</th>\n",
       "      <th>number_adjusted_Olo</th>\n",
       "    </tr>\n",
       "  </thead>\n",
       "  <tbody>\n",
       "    <tr>\n",
       "      <th>0</th>\n",
       "      <td>1.527884e-06</td>\n",
       "      <td>0.000004</td>\n",
       "    </tr>\n",
       "    <tr>\n",
       "      <th>1</th>\n",
       "      <td>7.639419e-07</td>\n",
       "      <td>0.000009</td>\n",
       "    </tr>\n",
       "    <tr>\n",
       "      <th>2</th>\n",
       "      <td>6.111536e-06</td>\n",
       "      <td>0.000004</td>\n",
       "    </tr>\n",
       "    <tr>\n",
       "      <th>3</th>\n",
       "      <td>3.055768e-06</td>\n",
       "      <td>0.000009</td>\n",
       "    </tr>\n",
       "    <tr>\n",
       "      <th>4</th>\n",
       "      <td>3.055768e-06</td>\n",
       "      <td>0.000051</td>\n",
       "    </tr>\n",
       "    <tr>\n",
       "      <th>5</th>\n",
       "      <td>9.167303e-06</td>\n",
       "      <td>0.000043</td>\n",
       "    </tr>\n",
       "    <tr>\n",
       "      <th>6</th>\n",
       "      <td>4.583652e-06</td>\n",
       "      <td>0.000026</td>\n",
       "    </tr>\n",
       "    <tr>\n",
       "      <th>7</th>\n",
       "      <td>9.167303e-06</td>\n",
       "      <td>0.000034</td>\n",
       "    </tr>\n",
       "    <tr>\n",
       "      <th>8</th>\n",
       "      <td>5.347594e-06</td>\n",
       "      <td>0.000060</td>\n",
       "    </tr>\n",
       "    <tr>\n",
       "      <th>9</th>\n",
       "      <td>1.145913e-05</td>\n",
       "      <td>0.000017</td>\n",
       "    </tr>\n",
       "  </tbody>\n",
       "</table>\n",
       "</div>"
      ],
      "text/plain": [
       "   number_adjusted_Prg  number_adjusted_Olo\n",
       "0         1.527884e-06             0.000004\n",
       "1         7.639419e-07             0.000009\n",
       "2         6.111536e-06             0.000004\n",
       "3         3.055768e-06             0.000009\n",
       "4         3.055768e-06             0.000051\n",
       "5         9.167303e-06             0.000043\n",
       "6         4.583652e-06             0.000026\n",
       "7         9.167303e-06             0.000034\n",
       "8         5.347594e-06             0.000060\n",
       "9         1.145913e-05             0.000017"
      ]
     },
     "execution_count": 33,
     "metadata": {},
     "output_type": "execute_result"
    }
   ],
   "source": [
    "#drop lines with null values\n",
    "df_merged_clean = df_merged_clean.dropna()\n",
    "df_merged_clean.head(10)"
   ]
  },
  {
   "cell_type": "code",
   "execution_count": 34,
   "metadata": {},
   "outputs": [
    {
     "data": {
      "text/plain": [
       "number_adjusted_Prg    0\n",
       "number_adjusted_Olo    0\n",
       "dtype: int64"
      ]
     },
     "execution_count": 34,
     "metadata": {},
     "output_type": "execute_result"
    }
   ],
   "source": [
    "df_merged_clean.isnull().sum()"
   ]
  },
  {
   "cell_type": "code",
   "execution_count": 35,
   "metadata": {
    "scrolled": true
   },
   "outputs": [
    {
     "data": {
      "text/plain": [
       "(0.5306914094027408, 4.4525105580997137e-13)"
      ]
     },
     "execution_count": 35,
     "metadata": {},
     "output_type": "execute_result"
    }
   ],
   "source": [
    "import scipy.stats as stats\n",
    "stats.pearsonr(df_merged_clean['number_adjusted_Prg'], df_merged_clean['number_adjusted_Olo'])"
   ]
  },
  {
   "cell_type": "code",
   "execution_count": 36,
   "metadata": {},
   "outputs": [],
   "source": [
    "r_20201009 = 0.7521490476247261\n",
    "p_20201009 = 1.0881912443295733e-29\n",
    "r_20201011 = 0.8681118180495841\n",
    "p_20201011 = 6.303139370072671e-50"
   ]
  },
  {
   "cell_type": "markdown",
   "metadata": {},
   "source": [
    "# Q2: Where is he more likely to get hospitalised?"
   ]
  },
  {
   "cell_type": "code",
   "execution_count": 37,
   "metadata": {},
   "outputs": [
    {
     "data": {
      "text/html": [
       "<div>\n",
       "<style scoped>\n",
       "    .dataframe tbody tr th:only-of-type {\n",
       "        vertical-align: middle;\n",
       "    }\n",
       "\n",
       "    .dataframe tbody tr th {\n",
       "        vertical-align: top;\n",
       "    }\n",
       "\n",
       "    .dataframe thead th {\n",
       "        text-align: right;\n",
       "    }\n",
       "</style>\n",
       "<table border=\"1\" class=\"dataframe\">\n",
       "  <thead>\n",
       "    <tr style=\"text-align: right;\">\n",
       "      <th></th>\n",
       "      <th>den</th>\n",
       "      <th>datum</th>\n",
       "      <th>orp_kod</th>\n",
       "      <th>orp_nazev</th>\n",
       "      <th>incidence_7</th>\n",
       "      <th>incidence_65_7</th>\n",
       "      <th>incidence_75_7</th>\n",
       "      <th>prevalence</th>\n",
       "      <th>prevalence_65</th>\n",
       "      <th>prevalence_75</th>\n",
       "      <th>aktualni_pocet_hospitalizovanych_osob</th>\n",
       "      <th>nove_hosp_7</th>\n",
       "      <th>testy_7</th>\n",
       "    </tr>\n",
       "  </thead>\n",
       "  <tbody>\n",
       "    <tr>\n",
       "      <th>0</th>\n",
       "      <td>neděle</td>\n",
       "      <td>2020-03-01</td>\n",
       "      <td>2012</td>\n",
       "      <td>Kutná Hora</td>\n",
       "      <td>0</td>\n",
       "      <td>0</td>\n",
       "      <td>0</td>\n",
       "      <td>0</td>\n",
       "      <td>0</td>\n",
       "      <td>0</td>\n",
       "      <td>NaN</td>\n",
       "      <td>0</td>\n",
       "      <td>NaN</td>\n",
       "    </tr>\n",
       "    <tr>\n",
       "      <th>1</th>\n",
       "      <td>neděle</td>\n",
       "      <td>2020-03-01</td>\n",
       "      <td>6314</td>\n",
       "      <td>Velké Meziříčí</td>\n",
       "      <td>0</td>\n",
       "      <td>0</td>\n",
       "      <td>0</td>\n",
       "      <td>0</td>\n",
       "      <td>0</td>\n",
       "      <td>0</td>\n",
       "      <td>NaN</td>\n",
       "      <td>0</td>\n",
       "      <td>NaN</td>\n",
       "    </tr>\n",
       "    <tr>\n",
       "      <th>2</th>\n",
       "      <td>neděle</td>\n",
       "      <td>2020-03-01</td>\n",
       "      <td>2013</td>\n",
       "      <td>Lysá nad Labem</td>\n",
       "      <td>0</td>\n",
       "      <td>0</td>\n",
       "      <td>0</td>\n",
       "      <td>0</td>\n",
       "      <td>0</td>\n",
       "      <td>0</td>\n",
       "      <td>NaN</td>\n",
       "      <td>0</td>\n",
       "      <td>NaN</td>\n",
       "    </tr>\n",
       "    <tr>\n",
       "      <th>3</th>\n",
       "      <td>neděle</td>\n",
       "      <td>2020-03-01</td>\n",
       "      <td>6315</td>\n",
       "      <td>Žďár nad Sázavou</td>\n",
       "      <td>0</td>\n",
       "      <td>0</td>\n",
       "      <td>0</td>\n",
       "      <td>0</td>\n",
       "      <td>0</td>\n",
       "      <td>0</td>\n",
       "      <td>NaN</td>\n",
       "      <td>0</td>\n",
       "      <td>NaN</td>\n",
       "    </tr>\n",
       "    <tr>\n",
       "      <th>4</th>\n",
       "      <td>neděle</td>\n",
       "      <td>2020-03-01</td>\n",
       "      <td>2014</td>\n",
       "      <td>Mělník</td>\n",
       "      <td>0</td>\n",
       "      <td>0</td>\n",
       "      <td>0</td>\n",
       "      <td>0</td>\n",
       "      <td>0</td>\n",
       "      <td>0</td>\n",
       "      <td>NaN</td>\n",
       "      <td>0</td>\n",
       "      <td>NaN</td>\n",
       "    </tr>\n",
       "  </tbody>\n",
       "</table>\n",
       "</div>"
      ],
      "text/plain": [
       "      den       datum  orp_kod         orp_nazev  incidence_7  incidence_65_7  \\\n",
       "0  neděle  2020-03-01     2012        Kutná Hora            0               0   \n",
       "1  neděle  2020-03-01     6314    Velké Meziříčí            0               0   \n",
       "2  neděle  2020-03-01     2013    Lysá nad Labem            0               0   \n",
       "3  neděle  2020-03-01     6315  Žďár nad Sázavou            0               0   \n",
       "4  neděle  2020-03-01     2014            Mělník            0               0   \n",
       "\n",
       "   incidence_75_7  prevalence  prevalence_65  prevalence_75  \\\n",
       "0               0           0              0              0   \n",
       "1               0           0              0              0   \n",
       "2               0           0              0              0   \n",
       "3               0           0              0              0   \n",
       "4               0           0              0              0   \n",
       "\n",
       "   aktualni_pocet_hospitalizovanych_osob  nove_hosp_7  testy_7  \n",
       "0                                    NaN            0      NaN  \n",
       "1                                    NaN            0      NaN  \n",
       "2                                    NaN            0      NaN  \n",
       "3                                    NaN            0      NaN  \n",
       "4                                    NaN            0      NaN  "
      ]
     },
     "execution_count": 37,
     "metadata": {},
     "output_type": "execute_result"
    }
   ],
   "source": [
    "df_hos = pd.read_csv('web_orp_2020-10-11-00-00-36.csv', delimiter=';')\n",
    "df_hos.head()"
   ]
  },
  {
   "cell_type": "code",
   "execution_count": 38,
   "metadata": {},
   "outputs": [
    {
     "data": {
      "text/plain": [
       "den                                       object\n",
       "datum                                     object\n",
       "orp_kod                                    int64\n",
       "orp_nazev                                 object\n",
       "incidence_7                                int64\n",
       "incidence_65_7                             int64\n",
       "incidence_75_7                             int64\n",
       "prevalence                                 int64\n",
       "prevalence_65                              int64\n",
       "prevalence_75                              int64\n",
       "aktualni_pocet_hospitalizovanych_osob    float64\n",
       "nove_hosp_7                                int64\n",
       "testy_7                                  float64\n",
       "dtype: object"
      ]
     },
     "execution_count": 38,
     "metadata": {},
     "output_type": "execute_result"
    }
   ],
   "source": [
    "df_hos.dtypes"
   ]
  },
  {
   "cell_type": "code",
   "execution_count": 39,
   "metadata": {},
   "outputs": [],
   "source": [
    "orp_nazev_Prg = 0\n",
    "orp_nazev_Olo = 7107"
   ]
  },
  {
   "cell_type": "code",
   "execution_count": 40,
   "metadata": {
    "scrolled": true
   },
   "outputs": [
    {
     "data": {
      "text/html": [
       "<div>\n",
       "<style scoped>\n",
       "    .dataframe tbody tr th:only-of-type {\n",
       "        vertical-align: middle;\n",
       "    }\n",
       "\n",
       "    .dataframe tbody tr th {\n",
       "        vertical-align: top;\n",
       "    }\n",
       "\n",
       "    .dataframe thead th {\n",
       "        text-align: right;\n",
       "    }\n",
       "</style>\n",
       "<table border=\"1\" class=\"dataframe\">\n",
       "  <thead>\n",
       "    <tr style=\"text-align: right;\">\n",
       "      <th></th>\n",
       "      <th>den</th>\n",
       "      <th>datum</th>\n",
       "      <th>orp_kod</th>\n",
       "      <th>orp_nazev</th>\n",
       "      <th>incidence_7</th>\n",
       "      <th>incidence_65_7</th>\n",
       "      <th>incidence_75_7</th>\n",
       "      <th>prevalence</th>\n",
       "      <th>prevalence_65</th>\n",
       "      <th>prevalence_75</th>\n",
       "      <th>aktualni_pocet_hospitalizovanych_osob</th>\n",
       "      <th>nove_hosp_7</th>\n",
       "      <th>testy_7</th>\n",
       "    </tr>\n",
       "  </thead>\n",
       "  <tbody>\n",
       "    <tr>\n",
       "      <th>59</th>\n",
       "      <td>neděle</td>\n",
       "      <td>2020-03-01</td>\n",
       "      <td>7107</td>\n",
       "      <td>Olomouc</td>\n",
       "      <td>0</td>\n",
       "      <td>0</td>\n",
       "      <td>0</td>\n",
       "      <td>0</td>\n",
       "      <td>0</td>\n",
       "      <td>0</td>\n",
       "      <td>NaN</td>\n",
       "      <td>0</td>\n",
       "      <td>NaN</td>\n",
       "    </tr>\n",
       "    <tr>\n",
       "      <th>216</th>\n",
       "      <td>pondělí</td>\n",
       "      <td>2020-03-02</td>\n",
       "      <td>7107</td>\n",
       "      <td>Olomouc</td>\n",
       "      <td>0</td>\n",
       "      <td>0</td>\n",
       "      <td>0</td>\n",
       "      <td>0</td>\n",
       "      <td>0</td>\n",
       "      <td>0</td>\n",
       "      <td>NaN</td>\n",
       "      <td>0</td>\n",
       "      <td>NaN</td>\n",
       "    </tr>\n",
       "    <tr>\n",
       "      <th>471</th>\n",
       "      <td>úterý</td>\n",
       "      <td>2020-03-03</td>\n",
       "      <td>7107</td>\n",
       "      <td>Olomouc</td>\n",
       "      <td>0</td>\n",
       "      <td>0</td>\n",
       "      <td>0</td>\n",
       "      <td>0</td>\n",
       "      <td>0</td>\n",
       "      <td>0</td>\n",
       "      <td>NaN</td>\n",
       "      <td>0</td>\n",
       "      <td>NaN</td>\n",
       "    </tr>\n",
       "    <tr>\n",
       "      <th>628</th>\n",
       "      <td>středa</td>\n",
       "      <td>2020-03-04</td>\n",
       "      <td>7107</td>\n",
       "      <td>Olomouc</td>\n",
       "      <td>0</td>\n",
       "      <td>0</td>\n",
       "      <td>0</td>\n",
       "      <td>0</td>\n",
       "      <td>0</td>\n",
       "      <td>0</td>\n",
       "      <td>NaN</td>\n",
       "      <td>0</td>\n",
       "      <td>NaN</td>\n",
       "    </tr>\n",
       "    <tr>\n",
       "      <th>883</th>\n",
       "      <td>čtvrtek</td>\n",
       "      <td>2020-03-05</td>\n",
       "      <td>7107</td>\n",
       "      <td>Olomouc</td>\n",
       "      <td>0</td>\n",
       "      <td>0</td>\n",
       "      <td>0</td>\n",
       "      <td>0</td>\n",
       "      <td>0</td>\n",
       "      <td>0</td>\n",
       "      <td>NaN</td>\n",
       "      <td>0</td>\n",
       "      <td>1.0</td>\n",
       "    </tr>\n",
       "  </tbody>\n",
       "</table>\n",
       "</div>"
      ],
      "text/plain": [
       "         den       datum  orp_kod orp_nazev  incidence_7  incidence_65_7  \\\n",
       "59    neděle  2020-03-01     7107   Olomouc            0               0   \n",
       "216  pondělí  2020-03-02     7107   Olomouc            0               0   \n",
       "471    úterý  2020-03-03     7107   Olomouc            0               0   \n",
       "628   středa  2020-03-04     7107   Olomouc            0               0   \n",
       "883  čtvrtek  2020-03-05     7107   Olomouc            0               0   \n",
       "\n",
       "     incidence_75_7  prevalence  prevalence_65  prevalence_75  \\\n",
       "59                0           0              0              0   \n",
       "216               0           0              0              0   \n",
       "471               0           0              0              0   \n",
       "628               0           0              0              0   \n",
       "883               0           0              0              0   \n",
       "\n",
       "     aktualni_pocet_hospitalizovanych_osob  nove_hosp_7  testy_7  \n",
       "59                                     NaN            0      NaN  \n",
       "216                                    NaN            0      NaN  \n",
       "471                                    NaN            0      NaN  \n",
       "628                                    NaN            0      NaN  \n",
       "883                                    NaN            0      1.0  "
      ]
     },
     "execution_count": 40,
     "metadata": {},
     "output_type": "execute_result"
    }
   ],
   "source": [
    "df_hos_Olo = df_hos[df_hos['orp_kod']==orp_nazev_Olo]\n",
    "df_hos_Olo.head()"
   ]
  },
  {
   "cell_type": "code",
   "execution_count": 41,
   "metadata": {},
   "outputs": [
    {
     "data": {
      "text/html": [
       "<div>\n",
       "<style scoped>\n",
       "    .dataframe tbody tr th:only-of-type {\n",
       "        vertical-align: middle;\n",
       "    }\n",
       "\n",
       "    .dataframe tbody tr th {\n",
       "        vertical-align: top;\n",
       "    }\n",
       "\n",
       "    .dataframe thead th {\n",
       "        text-align: right;\n",
       "    }\n",
       "</style>\n",
       "<table border=\"1\" class=\"dataframe\">\n",
       "  <thead>\n",
       "    <tr style=\"text-align: right;\">\n",
       "      <th></th>\n",
       "      <th>den</th>\n",
       "      <th>datum</th>\n",
       "      <th>orp_kod</th>\n",
       "      <th>orp_nazev</th>\n",
       "      <th>incidence_7</th>\n",
       "      <th>incidence_65_7</th>\n",
       "      <th>incidence_75_7</th>\n",
       "      <th>prevalence</th>\n",
       "      <th>prevalence_65</th>\n",
       "      <th>prevalence_75</th>\n",
       "      <th>aktualni_pocet_hospitalizovanych_osob</th>\n",
       "      <th>nove_hosp_7</th>\n",
       "      <th>testy_7</th>\n",
       "    </tr>\n",
       "  </thead>\n",
       "  <tbody>\n",
       "    <tr>\n",
       "      <th>182</th>\n",
       "      <td>neděle</td>\n",
       "      <td>2020-03-01</td>\n",
       "      <td>0</td>\n",
       "      <td>Praha</td>\n",
       "      <td>2</td>\n",
       "      <td>1</td>\n",
       "      <td>0</td>\n",
       "      <td>2</td>\n",
       "      <td>1</td>\n",
       "      <td>0</td>\n",
       "      <td>NaN</td>\n",
       "      <td>0</td>\n",
       "      <td>NaN</td>\n",
       "    </tr>\n",
       "    <tr>\n",
       "      <th>368</th>\n",
       "      <td>pondělí</td>\n",
       "      <td>2020-03-02</td>\n",
       "      <td>0</td>\n",
       "      <td>Praha</td>\n",
       "      <td>2</td>\n",
       "      <td>1</td>\n",
       "      <td>0</td>\n",
       "      <td>2</td>\n",
       "      <td>1</td>\n",
       "      <td>0</td>\n",
       "      <td>NaN</td>\n",
       "      <td>0</td>\n",
       "      <td>NaN</td>\n",
       "    </tr>\n",
       "    <tr>\n",
       "      <th>594</th>\n",
       "      <td>úterý</td>\n",
       "      <td>2020-03-03</td>\n",
       "      <td>0</td>\n",
       "      <td>Praha</td>\n",
       "      <td>3</td>\n",
       "      <td>1</td>\n",
       "      <td>0</td>\n",
       "      <td>3</td>\n",
       "      <td>1</td>\n",
       "      <td>0</td>\n",
       "      <td>NaN</td>\n",
       "      <td>0</td>\n",
       "      <td>2.0</td>\n",
       "    </tr>\n",
       "    <tr>\n",
       "      <th>780</th>\n",
       "      <td>středa</td>\n",
       "      <td>2020-03-04</td>\n",
       "      <td>0</td>\n",
       "      <td>Praha</td>\n",
       "      <td>4</td>\n",
       "      <td>1</td>\n",
       "      <td>0</td>\n",
       "      <td>4</td>\n",
       "      <td>1</td>\n",
       "      <td>0</td>\n",
       "      <td>NaN</td>\n",
       "      <td>0</td>\n",
       "      <td>4.0</td>\n",
       "    </tr>\n",
       "    <tr>\n",
       "      <th>1006</th>\n",
       "      <td>čtvrtek</td>\n",
       "      <td>2020-03-05</td>\n",
       "      <td>0</td>\n",
       "      <td>Praha</td>\n",
       "      <td>4</td>\n",
       "      <td>1</td>\n",
       "      <td>0</td>\n",
       "      <td>4</td>\n",
       "      <td>1</td>\n",
       "      <td>0</td>\n",
       "      <td>NaN</td>\n",
       "      <td>0</td>\n",
       "      <td>6.0</td>\n",
       "    </tr>\n",
       "  </tbody>\n",
       "</table>\n",
       "</div>"
      ],
      "text/plain": [
       "          den       datum  orp_kod orp_nazev  incidence_7  incidence_65_7  \\\n",
       "182    neděle  2020-03-01        0     Praha            2               1   \n",
       "368   pondělí  2020-03-02        0     Praha            2               1   \n",
       "594     úterý  2020-03-03        0     Praha            3               1   \n",
       "780    středa  2020-03-04        0     Praha            4               1   \n",
       "1006  čtvrtek  2020-03-05        0     Praha            4               1   \n",
       "\n",
       "      incidence_75_7  prevalence  prevalence_65  prevalence_75  \\\n",
       "182                0           2              1              0   \n",
       "368                0           2              1              0   \n",
       "594                0           3              1              0   \n",
       "780                0           4              1              0   \n",
       "1006               0           4              1              0   \n",
       "\n",
       "      aktualni_pocet_hospitalizovanych_osob  nove_hosp_7  testy_7  \n",
       "182                                     NaN            0      NaN  \n",
       "368                                     NaN            0      NaN  \n",
       "594                                     NaN            0      2.0  \n",
       "780                                     NaN            0      4.0  \n",
       "1006                                    NaN            0      6.0  "
      ]
     },
     "execution_count": 41,
     "metadata": {},
     "output_type": "execute_result"
    }
   ],
   "source": [
    "df_hos_Prg = df_hos[df_hos['orp_kod']==orp_nazev_Prg]\n",
    "df_hos_Prg.head()"
   ]
  },
  {
   "cell_type": "code",
   "execution_count": 42,
   "metadata": {},
   "outputs": [
    {
     "data": {
      "text/plain": [
       "Index(['den', 'datum', 'orp_kod', 'orp_nazev', 'incidence_7', 'incidence_65_7',\n",
       "       'incidence_75_7', 'prevalence', 'prevalence_65', 'prevalence_75',\n",
       "       'aktualni_pocet_hospitalizovanych_osob', 'nove_hosp_7', 'testy_7'],\n",
       "      dtype='object')"
      ]
     },
     "execution_count": 42,
     "metadata": {},
     "output_type": "execute_result"
    }
   ],
   "source": [
    "df_hos_Olo.columns"
   ]
  },
  {
   "cell_type": "code",
   "execution_count": 43,
   "metadata": {
    "scrolled": true
   },
   "outputs": [
    {
     "data": {
      "text/html": [
       "<div>\n",
       "<style scoped>\n",
       "    .dataframe tbody tr th:only-of-type {\n",
       "        vertical-align: middle;\n",
       "    }\n",
       "\n",
       "    .dataframe tbody tr th {\n",
       "        vertical-align: top;\n",
       "    }\n",
       "\n",
       "    .dataframe thead th {\n",
       "        text-align: right;\n",
       "    }\n",
       "</style>\n",
       "<table border=\"1\" class=\"dataframe\">\n",
       "  <thead>\n",
       "    <tr style=\"text-align: right;\">\n",
       "      <th></th>\n",
       "      <th>datum</th>\n",
       "      <th>incidence_75_7</th>\n",
       "      <th>nove_hosp_7</th>\n",
       "      <th>testy_7</th>\n",
       "    </tr>\n",
       "  </thead>\n",
       "  <tbody>\n",
       "    <tr>\n",
       "      <th>45381</th>\n",
       "      <td>2020-10-07</td>\n",
       "      <td>26</td>\n",
       "      <td>27</td>\n",
       "      <td>836.0</td>\n",
       "    </tr>\n",
       "    <tr>\n",
       "      <th>45534</th>\n",
       "      <td>2020-10-08</td>\n",
       "      <td>24</td>\n",
       "      <td>30</td>\n",
       "      <td>772.0</td>\n",
       "    </tr>\n",
       "    <tr>\n",
       "      <th>45793</th>\n",
       "      <td>2020-10-09</td>\n",
       "      <td>29</td>\n",
       "      <td>31</td>\n",
       "      <td>813.0</td>\n",
       "    </tr>\n",
       "    <tr>\n",
       "      <th>45946</th>\n",
       "      <td>2020-10-10</td>\n",
       "      <td>29</td>\n",
       "      <td>29</td>\n",
       "      <td>816.0</td>\n",
       "    </tr>\n",
       "    <tr>\n",
       "      <th>46205</th>\n",
       "      <td>2020-10-11</td>\n",
       "      <td>29</td>\n",
       "      <td>25</td>\n",
       "      <td>797.0</td>\n",
       "    </tr>\n",
       "  </tbody>\n",
       "</table>\n",
       "</div>"
      ],
      "text/plain": [
       "            datum  incidence_75_7  nove_hosp_7  testy_7\n",
       "45381  2020-10-07              26           27    836.0\n",
       "45534  2020-10-08              24           30    772.0\n",
       "45793  2020-10-09              29           31    813.0\n",
       "45946  2020-10-10              29           29    816.0\n",
       "46205  2020-10-11              29           25    797.0"
      ]
     },
     "execution_count": 43,
     "metadata": {},
     "output_type": "execute_result"
    }
   ],
   "source": [
    "column_names = ['datum', 'incidence_75_7', 'nove_hosp_7', 'testy_7']\n",
    "df_hos_Olo_trim = df_hos_Olo[column_names]\n",
    "df_hos_Olo_trim.tail()"
   ]
  },
  {
   "cell_type": "code",
   "execution_count": 44,
   "metadata": {},
   "outputs": [
    {
     "data": {
      "text/html": [
       "<div>\n",
       "<style scoped>\n",
       "    .dataframe tbody tr th:only-of-type {\n",
       "        vertical-align: middle;\n",
       "    }\n",
       "\n",
       "    .dataframe tbody tr th {\n",
       "        vertical-align: top;\n",
       "    }\n",
       "\n",
       "    .dataframe thead th {\n",
       "        text-align: right;\n",
       "    }\n",
       "</style>\n",
       "<table border=\"1\" class=\"dataframe\">\n",
       "  <thead>\n",
       "    <tr style=\"text-align: right;\">\n",
       "      <th></th>\n",
       "      <th>datum</th>\n",
       "      <th>incidence_75_7</th>\n",
       "      <th>nove_hosp_7</th>\n",
       "      <th>testy_7</th>\n",
       "    </tr>\n",
       "  </thead>\n",
       "  <tbody>\n",
       "    <tr>\n",
       "      <th>45503</th>\n",
       "      <td>2020-10-07</td>\n",
       "      <td>200</td>\n",
       "      <td>185</td>\n",
       "      <td>12239.0</td>\n",
       "    </tr>\n",
       "    <tr>\n",
       "      <th>45687</th>\n",
       "      <td>2020-10-08</td>\n",
       "      <td>221</td>\n",
       "      <td>210</td>\n",
       "      <td>11573.0</td>\n",
       "    </tr>\n",
       "    <tr>\n",
       "      <th>45915</th>\n",
       "      <td>2020-10-09</td>\n",
       "      <td>290</td>\n",
       "      <td>216</td>\n",
       "      <td>11501.0</td>\n",
       "    </tr>\n",
       "    <tr>\n",
       "      <th>46099</th>\n",
       "      <td>2020-10-10</td>\n",
       "      <td>303</td>\n",
       "      <td>228</td>\n",
       "      <td>10238.0</td>\n",
       "    </tr>\n",
       "    <tr>\n",
       "      <th>46327</th>\n",
       "      <td>2020-10-11</td>\n",
       "      <td>277</td>\n",
       "      <td>210</td>\n",
       "      <td>9220.0</td>\n",
       "    </tr>\n",
       "  </tbody>\n",
       "</table>\n",
       "</div>"
      ],
      "text/plain": [
       "            datum  incidence_75_7  nove_hosp_7  testy_7\n",
       "45503  2020-10-07             200          185  12239.0\n",
       "45687  2020-10-08             221          210  11573.0\n",
       "45915  2020-10-09             290          216  11501.0\n",
       "46099  2020-10-10             303          228  10238.0\n",
       "46327  2020-10-11             277          210   9220.0"
      ]
     },
     "execution_count": 44,
     "metadata": {},
     "output_type": "execute_result"
    }
   ],
   "source": [
    "df_hos_Prg_trim = df_hos_Prg[column_names]\n",
    "df_hos_Prg_trim.tail()"
   ]
  },
  {
   "cell_type": "code",
   "execution_count": 45,
   "metadata": {},
   "outputs": [
    {
     "data": {
      "text/plain": [
       "datum              object\n",
       "incidence_75_7      int64\n",
       "nove_hosp_7         int64\n",
       "testy_7           float64\n",
       "dtype: object"
      ]
     },
     "execution_count": 45,
     "metadata": {},
     "output_type": "execute_result"
    }
   ],
   "source": [
    "df_hos_Olo_trim.dtypes"
   ]
  },
  {
   "cell_type": "code",
   "execution_count": 46,
   "metadata": {
    "scrolled": true
   },
   "outputs": [
    {
     "data": {
      "text/plain": [
       "datum              object\n",
       "incidence_75_7      int64\n",
       "nove_hosp_7         int64\n",
       "testy_7           float64\n",
       "dtype: object"
      ]
     },
     "execution_count": 46,
     "metadata": {},
     "output_type": "execute_result"
    }
   ],
   "source": [
    "pd.to_datetime(df_hos_Olo_trim['datum'])\n",
    "# works much better than\n",
    "# df_hos_Olo_trim['datum'] = df_hos_Olo_trim['datum'].apply(pd.to_datetime)\n",
    "# which raises exception\n",
    "\n",
    "df_hos_Olo_trim.dtypes"
   ]
  },
  {
   "cell_type": "code",
   "execution_count": 47,
   "metadata": {},
   "outputs": [
    {
     "data": {
      "text/plain": [
       "datum              object\n",
       "incidence_75_7      int64\n",
       "nove_hosp_7         int64\n",
       "testy_7           float64\n",
       "dtype: object"
      ]
     },
     "execution_count": 47,
     "metadata": {},
     "output_type": "execute_result"
    }
   ],
   "source": [
    "pd.to_datetime(df_hos_Prg_trim['datum'])\n",
    "df_hos_Prg_trim.dtypes"
   ]
  },
  {
   "cell_type": "code",
   "execution_count": 48,
   "metadata": {},
   "outputs": [
    {
     "data": {
      "image/png": "[encoded data removed]",
      "text/plain": [
       "<Figure size 720x720 with 3 Axes>"
      ]
     },
     "metadata": {
      "needs_background": "light"
     },
     "output_type": "display_data"
    }
   ],
   "source": [
    "fig, (ax1, ax2, ax3) = plt.subplots(3, 1, figsize=(10, 10))\n",
    "\n",
    "ax1.plot(df_hos_Prg_trim['datum'], df_hos_Prg_trim['incidence_75_7'], 'r--', label='Prague')\n",
    "ax1.plot(df_hos_Olo_trim['datum'], df_hos_Olo_trim['incidence_75_7'], 'r', label='Olomouc')\n",
    "ax1.set_ylabel('Number of new COVID-19 cases')\n",
    "\n",
    "ax2.plot(df_hos_Prg_trim['datum'], df_hos_Prg_trim['nove_hosp_7'], 'g--', label='Prague')\n",
    "ax2.plot(df_hos_Olo_trim['datum'], df_hos_Olo_trim['nove_hosp_7'], 'g', label='Olomouc')\n",
    "ax2.set_ylabel('Number of new hospitalisations')\n",
    "\n",
    "ax3.plot(df_hos_Prg_trim['datum'], df_hos_Prg_trim['testy_7'], 'b--', label='Prague')\n",
    "ax3.plot(df_hos_Olo_trim['datum'], df_hos_Olo_trim['testy_7'], 'b', label='Olomouc')\n",
    "ax3.set_ylabel('Number of tests')\n",
    "\n",
    "legend = ax1.legend(loc='upper left', shadow=True, fontsize='large')\n",
    "legend = ax2.legend(loc='upper left', shadow=True, fontsize='large')\n",
    "legend = ax3.legend(loc='upper left', shadow=True, fontsize='large')\n",
    "\n",
    "fig.suptitle('Weekly numbers of incidence, new hospitalisations and tests in Olomouc and Prague', y=0.92)\n",
    "plt.xlabel('Date')\n",
    "\n",
    "plt.show()"
   ]
  },
  {
   "cell_type": "markdown",
   "metadata": {},
   "source": [
    "# adjust by pupolation"
   ]
  },
  {
   "cell_type": "code",
   "execution_count": 49,
   "metadata": {},
   "outputs": [
    {
     "data": {
      "text/html": [
       "<div>\n",
       "<style scoped>\n",
       "    .dataframe tbody tr th:only-of-type {\n",
       "        vertical-align: middle;\n",
       "    }\n",
       "\n",
       "    .dataframe tbody tr th {\n",
       "        vertical-align: top;\n",
       "    }\n",
       "\n",
       "    .dataframe thead th {\n",
       "        text-align: right;\n",
       "    }\n",
       "</style>\n",
       "<table border=\"1\" class=\"dataframe\">\n",
       "  <thead>\n",
       "    <tr style=\"text-align: right;\">\n",
       "      <th></th>\n",
       "      <th>datum</th>\n",
       "      <th>incidence_75_7</th>\n",
       "      <th>nove_hosp_7</th>\n",
       "      <th>testy_7</th>\n",
       "    </tr>\n",
       "  </thead>\n",
       "  <tbody>\n",
       "    <tr>\n",
       "      <th>45381</th>\n",
       "      <td>2020-10-07</td>\n",
       "      <td>26</td>\n",
       "      <td>27</td>\n",
       "      <td>836.0</td>\n",
       "    </tr>\n",
       "    <tr>\n",
       "      <th>45534</th>\n",
       "      <td>2020-10-08</td>\n",
       "      <td>24</td>\n",
       "      <td>30</td>\n",
       "      <td>772.0</td>\n",
       "    </tr>\n",
       "    <tr>\n",
       "      <th>45793</th>\n",
       "      <td>2020-10-09</td>\n",
       "      <td>29</td>\n",
       "      <td>31</td>\n",
       "      <td>813.0</td>\n",
       "    </tr>\n",
       "    <tr>\n",
       "      <th>45946</th>\n",
       "      <td>2020-10-10</td>\n",
       "      <td>29</td>\n",
       "      <td>29</td>\n",
       "      <td>816.0</td>\n",
       "    </tr>\n",
       "    <tr>\n",
       "      <th>46205</th>\n",
       "      <td>2020-10-11</td>\n",
       "      <td>29</td>\n",
       "      <td>25</td>\n",
       "      <td>797.0</td>\n",
       "    </tr>\n",
       "  </tbody>\n",
       "</table>\n",
       "</div>"
      ],
      "text/plain": [
       "            datum  incidence_75_7  nove_hosp_7  testy_7\n",
       "45381  2020-10-07              26           27    836.0\n",
       "45534  2020-10-08              24           30    772.0\n",
       "45793  2020-10-09              29           31    813.0\n",
       "45946  2020-10-10              29           29    816.0\n",
       "46205  2020-10-11              29           25    797.0"
      ]
     },
     "execution_count": 49,
     "metadata": {},
     "output_type": "execute_result"
    }
   ],
   "source": [
    "df_hos_Olo_trim.tail()"
   ]
  },
  {
   "cell_type": "code",
   "execution_count": 50,
   "metadata": {},
   "outputs": [
    {
     "data": {
      "text/html": [
       "<div>\n",
       "<style scoped>\n",
       "    .dataframe tbody tr th:only-of-type {\n",
       "        vertical-align: middle;\n",
       "    }\n",
       "\n",
       "    .dataframe tbody tr th {\n",
       "        vertical-align: top;\n",
       "    }\n",
       "\n",
       "    .dataframe thead th {\n",
       "        text-align: right;\n",
       "    }\n",
       "</style>\n",
       "<table border=\"1\" class=\"dataframe\">\n",
       "  <thead>\n",
       "    <tr style=\"text-align: right;\">\n",
       "      <th></th>\n",
       "      <th>datum</th>\n",
       "      <th>incidence_75_7</th>\n",
       "      <th>nove_hosp_7</th>\n",
       "      <th>testy_7</th>\n",
       "    </tr>\n",
       "  </thead>\n",
       "  <tbody>\n",
       "    <tr>\n",
       "      <th>45503</th>\n",
       "      <td>2020-10-07</td>\n",
       "      <td>200</td>\n",
       "      <td>185</td>\n",
       "      <td>12239.0</td>\n",
       "    </tr>\n",
       "    <tr>\n",
       "      <th>45687</th>\n",
       "      <td>2020-10-08</td>\n",
       "      <td>221</td>\n",
       "      <td>210</td>\n",
       "      <td>11573.0</td>\n",
       "    </tr>\n",
       "    <tr>\n",
       "      <th>45915</th>\n",
       "      <td>2020-10-09</td>\n",
       "      <td>290</td>\n",
       "      <td>216</td>\n",
       "      <td>11501.0</td>\n",
       "    </tr>\n",
       "    <tr>\n",
       "      <th>46099</th>\n",
       "      <td>2020-10-10</td>\n",
       "      <td>303</td>\n",
       "      <td>228</td>\n",
       "      <td>10238.0</td>\n",
       "    </tr>\n",
       "    <tr>\n",
       "      <th>46327</th>\n",
       "      <td>2020-10-11</td>\n",
       "      <td>277</td>\n",
       "      <td>210</td>\n",
       "      <td>9220.0</td>\n",
       "    </tr>\n",
       "  </tbody>\n",
       "</table>\n",
       "</div>"
      ],
      "text/plain": [
       "            datum  incidence_75_7  nove_hosp_7  testy_7\n",
       "45503  2020-10-07             200          185  12239.0\n",
       "45687  2020-10-08             221          210  11573.0\n",
       "45915  2020-10-09             290          216  11501.0\n",
       "46099  2020-10-10             303          228  10238.0\n",
       "46327  2020-10-11             277          210   9220.0"
      ]
     },
     "execution_count": 50,
     "metadata": {},
     "output_type": "execute_result"
    }
   ],
   "source": [
    "df_hos_Prg_trim.tail()"
   ]
  },
  {
   "cell_type": "code",
   "execution_count": 51,
   "metadata": {},
   "outputs": [
    {
     "data": {
      "text/html": [
       "<div>\n",
       "<style scoped>\n",
       "    .dataframe tbody tr th:only-of-type {\n",
       "        vertical-align: middle;\n",
       "    }\n",
       "\n",
       "    .dataframe tbody tr th {\n",
       "        vertical-align: top;\n",
       "    }\n",
       "\n",
       "    .dataframe thead th {\n",
       "        text-align: right;\n",
       "    }\n",
       "</style>\n",
       "<table border=\"1\" class=\"dataframe\">\n",
       "  <thead>\n",
       "    <tr style=\"text-align: right;\">\n",
       "      <th></th>\n",
       "      <th>datum</th>\n",
       "      <th>incidence_75_7</th>\n",
       "      <th>nove_hosp_7</th>\n",
       "      <th>testy_7</th>\n",
       "    </tr>\n",
       "  </thead>\n",
       "  <tbody>\n",
       "    <tr>\n",
       "      <th>59</th>\n",
       "      <td>2020-03-01</td>\n",
       "      <td>0</td>\n",
       "      <td>0</td>\n",
       "      <td>NaN</td>\n",
       "    </tr>\n",
       "    <tr>\n",
       "      <th>216</th>\n",
       "      <td>2020-03-02</td>\n",
       "      <td>0</td>\n",
       "      <td>0</td>\n",
       "      <td>NaN</td>\n",
       "    </tr>\n",
       "    <tr>\n",
       "      <th>471</th>\n",
       "      <td>2020-03-03</td>\n",
       "      <td>0</td>\n",
       "      <td>0</td>\n",
       "      <td>NaN</td>\n",
       "    </tr>\n",
       "    <tr>\n",
       "      <th>628</th>\n",
       "      <td>2020-03-04</td>\n",
       "      <td>0</td>\n",
       "      <td>0</td>\n",
       "      <td>NaN</td>\n",
       "    </tr>\n",
       "    <tr>\n",
       "      <th>883</th>\n",
       "      <td>2020-03-05</td>\n",
       "      <td>0</td>\n",
       "      <td>0</td>\n",
       "      <td>1.0</td>\n",
       "    </tr>\n",
       "  </tbody>\n",
       "</table>\n",
       "</div>"
      ],
      "text/plain": [
       "          datum  incidence_75_7  nove_hosp_7  testy_7\n",
       "59   2020-03-01               0            0      NaN\n",
       "216  2020-03-02               0            0      NaN\n",
       "471  2020-03-03               0            0      NaN\n",
       "628  2020-03-04               0            0      NaN\n",
       "883  2020-03-05               0            0      1.0"
      ]
     },
     "execution_count": 51,
     "metadata": {},
     "output_type": "execute_result"
    }
   ],
   "source": [
    "df_hos_Olo_trim_extra = df_hos_Olo_trim.copy()\n",
    "df_hos_Olo_trim_extra.head()"
   ]
  },
  {
   "cell_type": "code",
   "execution_count": 52,
   "metadata": {},
   "outputs": [
    {
     "data": {
      "text/html": [
       "<div>\n",
       "<style scoped>\n",
       "    .dataframe tbody tr th:only-of-type {\n",
       "        vertical-align: middle;\n",
       "    }\n",
       "\n",
       "    .dataframe tbody tr th {\n",
       "        vertical-align: top;\n",
       "    }\n",
       "\n",
       "    .dataframe thead th {\n",
       "        text-align: right;\n",
       "    }\n",
       "</style>\n",
       "<table border=\"1\" class=\"dataframe\">\n",
       "  <thead>\n",
       "    <tr style=\"text-align: right;\">\n",
       "      <th></th>\n",
       "      <th>datum</th>\n",
       "      <th>incidence_75_7</th>\n",
       "      <th>nove_hosp_7</th>\n",
       "      <th>testy_7</th>\n",
       "      <th>incidence_75_7_adj</th>\n",
       "      <th>nove_hosp_7_adj</th>\n",
       "      <th>testy_7_adj</th>\n",
       "    </tr>\n",
       "  </thead>\n",
       "  <tbody>\n",
       "    <tr>\n",
       "      <th>59</th>\n",
       "      <td>2020-03-01</td>\n",
       "      <td>0</td>\n",
       "      <td>0</td>\n",
       "      <td>NaN</td>\n",
       "      <td>0.0</td>\n",
       "      <td>0.0</td>\n",
       "      <td>NaN</td>\n",
       "    </tr>\n",
       "    <tr>\n",
       "      <th>216</th>\n",
       "      <td>2020-03-02</td>\n",
       "      <td>0</td>\n",
       "      <td>0</td>\n",
       "      <td>NaN</td>\n",
       "      <td>0.0</td>\n",
       "      <td>0.0</td>\n",
       "      <td>NaN</td>\n",
       "    </tr>\n",
       "    <tr>\n",
       "      <th>471</th>\n",
       "      <td>2020-03-03</td>\n",
       "      <td>0</td>\n",
       "      <td>0</td>\n",
       "      <td>NaN</td>\n",
       "      <td>0.0</td>\n",
       "      <td>0.0</td>\n",
       "      <td>NaN</td>\n",
       "    </tr>\n",
       "    <tr>\n",
       "      <th>628</th>\n",
       "      <td>2020-03-04</td>\n",
       "      <td>0</td>\n",
       "      <td>0</td>\n",
       "      <td>NaN</td>\n",
       "      <td>0.0</td>\n",
       "      <td>0.0</td>\n",
       "      <td>NaN</td>\n",
       "    </tr>\n",
       "    <tr>\n",
       "      <th>883</th>\n",
       "      <td>2020-03-05</td>\n",
       "      <td>0</td>\n",
       "      <td>0</td>\n",
       "      <td>1.0</td>\n",
       "      <td>0.0</td>\n",
       "      <td>0.0</td>\n",
       "      <td>0.000004</td>\n",
       "    </tr>\n",
       "  </tbody>\n",
       "</table>\n",
       "</div>"
      ],
      "text/plain": [
       "          datum  incidence_75_7  nove_hosp_7  testy_7  incidence_75_7_adj  \\\n",
       "59   2020-03-01               0            0      NaN                 0.0   \n",
       "216  2020-03-02               0            0      NaN                 0.0   \n",
       "471  2020-03-03               0            0      NaN                 0.0   \n",
       "628  2020-03-04               0            0      NaN                 0.0   \n",
       "883  2020-03-05               0            0      1.0                 0.0   \n",
       "\n",
       "     nove_hosp_7_adj  testy_7_adj  \n",
       "59               0.0          NaN  \n",
       "216              0.0          NaN  \n",
       "471              0.0          NaN  \n",
       "628              0.0          NaN  \n",
       "883              0.0     0.000004  "
      ]
     },
     "execution_count": 52,
     "metadata": {},
     "output_type": "execute_result"
    }
   ],
   "source": [
    "df_hos_Olo_trim_extra['incidence_75_7_adj'] = df_hos_Olo_trim['incidence_75_7'] / pop_Olo\n",
    "df_hos_Olo_trim_extra['nove_hosp_7_adj'] = df_hos_Olo_trim['nove_hosp_7']/pop_Olo\n",
    "df_hos_Olo_trim_extra['testy_7_adj'] = df_hos_Olo_trim['testy_7']/pop_Olo\n",
    "df_hos_Olo_trim_extra.head()"
   ]
  },
  {
   "cell_type": "code",
   "execution_count": 53,
   "metadata": {},
   "outputs": [
    {
     "data": {
      "text/html": [
       "<div>\n",
       "<style scoped>\n",
       "    .dataframe tbody tr th:only-of-type {\n",
       "        vertical-align: middle;\n",
       "    }\n",
       "\n",
       "    .dataframe tbody tr th {\n",
       "        vertical-align: top;\n",
       "    }\n",
       "\n",
       "    .dataframe thead th {\n",
       "        text-align: right;\n",
       "    }\n",
       "</style>\n",
       "<table border=\"1\" class=\"dataframe\">\n",
       "  <thead>\n",
       "    <tr style=\"text-align: right;\">\n",
       "      <th></th>\n",
       "      <th>datum</th>\n",
       "      <th>incidence_75_7</th>\n",
       "      <th>nove_hosp_7</th>\n",
       "      <th>testy_7</th>\n",
       "    </tr>\n",
       "  </thead>\n",
       "  <tbody>\n",
       "    <tr>\n",
       "      <th>182</th>\n",
       "      <td>2020-03-01</td>\n",
       "      <td>0</td>\n",
       "      <td>0</td>\n",
       "      <td>NaN</td>\n",
       "    </tr>\n",
       "    <tr>\n",
       "      <th>368</th>\n",
       "      <td>2020-03-02</td>\n",
       "      <td>0</td>\n",
       "      <td>0</td>\n",
       "      <td>NaN</td>\n",
       "    </tr>\n",
       "    <tr>\n",
       "      <th>594</th>\n",
       "      <td>2020-03-03</td>\n",
       "      <td>0</td>\n",
       "      <td>0</td>\n",
       "      <td>2.0</td>\n",
       "    </tr>\n",
       "    <tr>\n",
       "      <th>780</th>\n",
       "      <td>2020-03-04</td>\n",
       "      <td>0</td>\n",
       "      <td>0</td>\n",
       "      <td>4.0</td>\n",
       "    </tr>\n",
       "    <tr>\n",
       "      <th>1006</th>\n",
       "      <td>2020-03-05</td>\n",
       "      <td>0</td>\n",
       "      <td>0</td>\n",
       "      <td>6.0</td>\n",
       "    </tr>\n",
       "  </tbody>\n",
       "</table>\n",
       "</div>"
      ],
      "text/plain": [
       "           datum  incidence_75_7  nove_hosp_7  testy_7\n",
       "182   2020-03-01               0            0      NaN\n",
       "368   2020-03-02               0            0      NaN\n",
       "594   2020-03-03               0            0      2.0\n",
       "780   2020-03-04               0            0      4.0\n",
       "1006  2020-03-05               0            0      6.0"
      ]
     },
     "execution_count": 53,
     "metadata": {},
     "output_type": "execute_result"
    }
   ],
   "source": [
    "df_hos_Prg_trim_extra = df_hos_Prg_trim.copy()\n",
    "df_hos_Prg_trim_extra.head()"
   ]
  },
  {
   "cell_type": "code",
   "execution_count": 54,
   "metadata": {
    "scrolled": true
   },
   "outputs": [
    {
     "data": {
      "text/html": [
       "<div>\n",
       "<style scoped>\n",
       "    .dataframe tbody tr th:only-of-type {\n",
       "        vertical-align: middle;\n",
       "    }\n",
       "\n",
       "    .dataframe tbody tr th {\n",
       "        vertical-align: top;\n",
       "    }\n",
       "\n",
       "    .dataframe thead th {\n",
       "        text-align: right;\n",
       "    }\n",
       "</style>\n",
       "<table border=\"1\" class=\"dataframe\">\n",
       "  <thead>\n",
       "    <tr style=\"text-align: right;\">\n",
       "      <th></th>\n",
       "      <th>datum</th>\n",
       "      <th>incidence_75_7</th>\n",
       "      <th>nove_hosp_7</th>\n",
       "      <th>testy_7</th>\n",
       "      <th>incidence_75_7_adj</th>\n",
       "      <th>nove_hosp_7_adj</th>\n",
       "      <th>testy_7_adj</th>\n",
       "    </tr>\n",
       "  </thead>\n",
       "  <tbody>\n",
       "    <tr>\n",
       "      <th>45503</th>\n",
       "      <td>2020-10-07</td>\n",
       "      <td>200</td>\n",
       "      <td>185</td>\n",
       "      <td>12239.0</td>\n",
       "      <td>0.000153</td>\n",
       "      <td>0.000141</td>\n",
       "      <td>0.009350</td>\n",
       "    </tr>\n",
       "    <tr>\n",
       "      <th>45687</th>\n",
       "      <td>2020-10-08</td>\n",
       "      <td>221</td>\n",
       "      <td>210</td>\n",
       "      <td>11573.0</td>\n",
       "      <td>0.000169</td>\n",
       "      <td>0.000160</td>\n",
       "      <td>0.008841</td>\n",
       "    </tr>\n",
       "    <tr>\n",
       "      <th>45915</th>\n",
       "      <td>2020-10-09</td>\n",
       "      <td>290</td>\n",
       "      <td>216</td>\n",
       "      <td>11501.0</td>\n",
       "      <td>0.000222</td>\n",
       "      <td>0.000165</td>\n",
       "      <td>0.008786</td>\n",
       "    </tr>\n",
       "    <tr>\n",
       "      <th>46099</th>\n",
       "      <td>2020-10-10</td>\n",
       "      <td>303</td>\n",
       "      <td>228</td>\n",
       "      <td>10238.0</td>\n",
       "      <td>0.000231</td>\n",
       "      <td>0.000174</td>\n",
       "      <td>0.007821</td>\n",
       "    </tr>\n",
       "    <tr>\n",
       "      <th>46327</th>\n",
       "      <td>2020-10-11</td>\n",
       "      <td>277</td>\n",
       "      <td>210</td>\n",
       "      <td>9220.0</td>\n",
       "      <td>0.000212</td>\n",
       "      <td>0.000160</td>\n",
       "      <td>0.007044</td>\n",
       "    </tr>\n",
       "  </tbody>\n",
       "</table>\n",
       "</div>"
      ],
      "text/plain": [
       "            datum  incidence_75_7  nove_hosp_7  testy_7  incidence_75_7_adj  \\\n",
       "45503  2020-10-07             200          185  12239.0            0.000153   \n",
       "45687  2020-10-08             221          210  11573.0            0.000169   \n",
       "45915  2020-10-09             290          216  11501.0            0.000222   \n",
       "46099  2020-10-10             303          228  10238.0            0.000231   \n",
       "46327  2020-10-11             277          210   9220.0            0.000212   \n",
       "\n",
       "       nove_hosp_7_adj  testy_7_adj  \n",
       "45503         0.000141     0.009350  \n",
       "45687         0.000160     0.008841  \n",
       "45915         0.000165     0.008786  \n",
       "46099         0.000174     0.007821  \n",
       "46327         0.000160     0.007044  "
      ]
     },
     "execution_count": 54,
     "metadata": {},
     "output_type": "execute_result"
    }
   ],
   "source": [
    "df_hos_Prg_trim_extra['incidence_75_7_adj'] = df_hos_Prg_trim['incidence_75_7']/pop_Prg\n",
    "df_hos_Prg_trim_extra['nove_hosp_7_adj'] = df_hos_Prg_trim['nove_hosp_7']/pop_Prg\n",
    "df_hos_Prg_trim_extra['testy_7_adj'] = df_hos_Prg_trim['testy_7']/pop_Prg\n",
    "df_hos_Prg_trim_extra.tail()"
   ]
  },
  {
   "cell_type": "code",
   "execution_count": 55,
   "metadata": {},
   "outputs": [
    {
     "data": {
      "image/png": "[encoded data removed]",
      "text/plain": [
       "<Figure size 720x720 with 3 Axes>"
      ]
     },
     "metadata": {
      "needs_background": "light"
     },
     "output_type": "display_data"
    }
   ],
   "source": [
    "fig, (ax1, ax2, ax3) = plt.subplots(3, 1, figsize=(10, 10))\n",
    "\n",
    "ax1.plot(df_hos_Prg_trim_extra['datum'], df_hos_Prg_trim_extra['incidence_75_7_adj'], 'r--', label='Prague')\n",
    "ax1.plot(df_hos_Olo_trim_extra['datum'], df_hos_Olo_trim_extra['incidence_75_7_adj'], 'r', label='Olomouc')\n",
    "ax1.set_ylabel('Number of new COVID-19 cases')\n",
    "\n",
    "ax2.plot(df_hos_Prg_trim_extra['datum'], df_hos_Prg_trim_extra['nove_hosp_7_adj'], 'g--', label='Prague')\n",
    "ax2.plot(df_hos_Olo_trim_extra['datum'], df_hos_Olo_trim_extra['nove_hosp_7_adj'], 'g', label='Olomouc')\n",
    "ax2.set_ylabel('Number of new hospitalisations')\n",
    "\n",
    "ax3.plot(df_hos_Prg_trim_extra['datum'], df_hos_Prg_trim_extra['testy_7_adj'], 'b--', label='Prague')\n",
    "ax3.plot(df_hos_Olo_trim_extra['datum'], df_hos_Olo_trim_extra['testy_7_adj'], 'b', label='Olomouc')\n",
    "ax3.set_ylabel('Number of tests')\n",
    "\n",
    "legend = ax1.legend(loc='upper left', shadow=True, fontsize='large')\n",
    "legend = ax2.legend(loc='upper left', shadow=True, fontsize='large')\n",
    "legend = ax3.legend(loc='upper left', shadow=True, fontsize='large')\n",
    "\n",
    "fig.suptitle('Weekly numbers of incidence, new hospitalisations and tests in Olomouc and Prague adjusted by population', y=0.92)\n",
    "plt.xlabel('Date')\n",
    "\n",
    "plt.show()"
   ]
  },
  {
   "cell_type": "code",
   "execution_count": null,
   "metadata": {},
   "outputs": [],
   "source": []
  }
 ],
 "metadata": {
  "kernelspec": {
   "display_name": "Python 3",
   "language": "python",
   "name": "python3"
  },
  "language_info": {
   "codemirror_mode": {
    "name": "ipython",
    "version": 3
   },
   "file_extension": ".py",
   "mimetype": "text/x-python",
   "name": "python",
   "nbconvert_exporter": "python",
   "pygments_lexer": "ipython3",
   "version": "3.8.3"
  }
 },
 "nbformat": 4,
 "nbformat_minor": 4
}
