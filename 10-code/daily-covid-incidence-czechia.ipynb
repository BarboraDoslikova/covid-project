{
 "cells": [
  {
   "cell_type": "code",
   "execution_count": 1,
   "metadata": {},
   "outputs": [],
   "source": [
    "%matplotlib inline\n",
    "import pandas as pd\n",
    "import matplotlib.pyplot as plt"
   ]
  },
  {
   "cell_type": "code",
   "execution_count": 2,
   "metadata": {},
   "outputs": [
    {
     "data": {
      "text/html": [
       "<div>\n",
       "<style scoped>\n",
       "    .dataframe tbody tr th:only-of-type {\n",
       "        vertical-align: middle;\n",
       "    }\n",
       "\n",
       "    .dataframe tbody tr th {\n",
       "        vertical-align: top;\n",
       "    }\n",
       "\n",
       "    .dataframe thead th {\n",
       "        text-align: right;\n",
       "    }\n",
       "</style>\n",
       "<table border=\"1\" class=\"dataframe\">\n",
       "  <thead>\n",
       "    <tr style=\"text-align: right;\">\n",
       "      <th></th>\n",
       "      <th>datum</th>\n",
       "      <th>vek</th>\n",
       "      <th>pohlavi</th>\n",
       "      <th>kraj_nuts_kod</th>\n",
       "      <th>okres_lau_kod</th>\n",
       "      <th>nakaza_v_zahranici</th>\n",
       "      <th>nakaza_zeme_csu_kod</th>\n",
       "    </tr>\n",
       "  </thead>\n",
       "  <tbody>\n",
       "    <tr>\n",
       "      <th>0</th>\n",
       "      <td>2020-10-11</td>\n",
       "      <td>39</td>\n",
       "      <td>Z</td>\n",
       "      <td>CZ080</td>\n",
       "      <td>CZ0806</td>\n",
       "      <td>NaN</td>\n",
       "      <td>NaN</td>\n",
       "    </tr>\n",
       "    <tr>\n",
       "      <th>1</th>\n",
       "      <td>2020-09-26</td>\n",
       "      <td>68</td>\n",
       "      <td>M</td>\n",
       "      <td>CZ071</td>\n",
       "      <td>CZ0712</td>\n",
       "      <td>NaN</td>\n",
       "      <td>NaN</td>\n",
       "    </tr>\n",
       "    <tr>\n",
       "      <th>2</th>\n",
       "      <td>2020-06-26</td>\n",
       "      <td>46</td>\n",
       "      <td>Z</td>\n",
       "      <td>CZ020</td>\n",
       "      <td>CZ0209</td>\n",
       "      <td>NaN</td>\n",
       "      <td>NaN</td>\n",
       "    </tr>\n",
       "    <tr>\n",
       "      <th>3</th>\n",
       "      <td>2020-10-13</td>\n",
       "      <td>86</td>\n",
       "      <td>Z</td>\n",
       "      <td>CZ042</td>\n",
       "      <td>CZ0423</td>\n",
       "      <td>NaN</td>\n",
       "      <td>NaN</td>\n",
       "    </tr>\n",
       "    <tr>\n",
       "      <th>4</th>\n",
       "      <td>2020-09-23</td>\n",
       "      <td>50</td>\n",
       "      <td>Z</td>\n",
       "      <td>CZ064</td>\n",
       "      <td>CZ0645</td>\n",
       "      <td>NaN</td>\n",
       "      <td>NaN</td>\n",
       "    </tr>\n",
       "  </tbody>\n",
       "</table>\n",
       "</div>"
      ],
      "text/plain": [
       "        datum  vek pohlavi kraj_nuts_kod okres_lau_kod  nakaza_v_zahranici  \\\n",
       "0  2020-10-11   39       Z         CZ080        CZ0806                 NaN   \n",
       "1  2020-09-26   68       M         CZ071        CZ0712                 NaN   \n",
       "2  2020-06-26   46       Z         CZ020        CZ0209                 NaN   \n",
       "3  2020-10-13   86       Z         CZ042        CZ0423                 NaN   \n",
       "4  2020-09-23   50       Z         CZ064        CZ0645                 NaN   \n",
       "\n",
       "  nakaza_zeme_csu_kod  \n",
       "0                 NaN  \n",
       "1                 NaN  \n",
       "2                 NaN  \n",
       "3                 NaN  \n",
       "4                 NaN  "
      ]
     },
     "execution_count": 2,
     "metadata": {},
     "output_type": "execute_result"
    }
   ],
   "source": [
    "df1 = pd.read_csv('..\\\\00-source-data\\\\osoby.csv')\n",
    "df1.head()"
   ]
  },
  {
   "cell_type": "code",
   "execution_count": 3,
   "metadata": {},
   "outputs": [
    {
     "data": {
      "text/html": [
       "<div>\n",
       "<style scoped>\n",
       "    .dataframe tbody tr th:only-of-type {\n",
       "        vertical-align: middle;\n",
       "    }\n",
       "\n",
       "    .dataframe tbody tr th {\n",
       "        vertical-align: top;\n",
       "    }\n",
       "\n",
       "    .dataframe thead th {\n",
       "        text-align: right;\n",
       "    }\n",
       "</style>\n",
       "<table border=\"1\" class=\"dataframe\">\n",
       "  <thead>\n",
       "    <tr style=\"text-align: right;\">\n",
       "      <th></th>\n",
       "      <th>datum</th>\n",
       "      <th>vek</th>\n",
       "      <th>pohlavi</th>\n",
       "      <th>kraj_nuts_kod</th>\n",
       "      <th>okres_lau_kod</th>\n",
       "      <th>nakaza_v_zahranici</th>\n",
       "      <th>nakaza_zeme_csu_kod</th>\n",
       "    </tr>\n",
       "  </thead>\n",
       "  <tbody>\n",
       "    <tr>\n",
       "      <th>126509</th>\n",
       "      <td>2020-08-17</td>\n",
       "      <td>28</td>\n",
       "      <td>Z</td>\n",
       "      <td>CZ010</td>\n",
       "      <td>CZ0723</td>\n",
       "      <td>NaN</td>\n",
       "      <td>NaN</td>\n",
       "    </tr>\n",
       "    <tr>\n",
       "      <th>126510</th>\n",
       "      <td>2020-09-17</td>\n",
       "      <td>55</td>\n",
       "      <td>Z</td>\n",
       "      <td>CZ063</td>\n",
       "      <td>CZ0635</td>\n",
       "      <td>NaN</td>\n",
       "      <td>NaN</td>\n",
       "    </tr>\n",
       "    <tr>\n",
       "      <th>126511</th>\n",
       "      <td>2020-09-18</td>\n",
       "      <td>27</td>\n",
       "      <td>Z</td>\n",
       "      <td>CZ032</td>\n",
       "      <td>CZ0316</td>\n",
       "      <td>NaN</td>\n",
       "      <td>NaN</td>\n",
       "    </tr>\n",
       "    <tr>\n",
       "      <th>126512</th>\n",
       "      <td>2020-09-21</td>\n",
       "      <td>78</td>\n",
       "      <td>M</td>\n",
       "      <td>CZ010</td>\n",
       "      <td>CZ0100</td>\n",
       "      <td>NaN</td>\n",
       "      <td>NaN</td>\n",
       "    </tr>\n",
       "    <tr>\n",
       "      <th>126513</th>\n",
       "      <td>2020-04-17</td>\n",
       "      <td>45</td>\n",
       "      <td>M</td>\n",
       "      <td>CZ020</td>\n",
       "      <td>CZ020A</td>\n",
       "      <td>NaN</td>\n",
       "      <td>NaN</td>\n",
       "    </tr>\n",
       "  </tbody>\n",
       "</table>\n",
       "</div>"
      ],
      "text/plain": [
       "             datum  vek pohlavi kraj_nuts_kod okres_lau_kod  \\\n",
       "126509  2020-08-17   28       Z         CZ010        CZ0723   \n",
       "126510  2020-09-17   55       Z         CZ063        CZ0635   \n",
       "126511  2020-09-18   27       Z         CZ032        CZ0316   \n",
       "126512  2020-09-21   78       M         CZ010        CZ0100   \n",
       "126513  2020-04-17   45       M         CZ020        CZ020A   \n",
       "\n",
       "        nakaza_v_zahranici nakaza_zeme_csu_kod  \n",
       "126509                 NaN                 NaN  \n",
       "126510                 NaN                 NaN  \n",
       "126511                 NaN                 NaN  \n",
       "126512                 NaN                 NaN  \n",
       "126513                 NaN                 NaN  "
      ]
     },
     "execution_count": 3,
     "metadata": {},
     "output_type": "execute_result"
    }
   ],
   "source": [
    "df1.tail()"
   ]
  },
  {
   "cell_type": "code",
   "execution_count": 4,
   "metadata": {},
   "outputs": [
    {
     "data": {
      "text/html": [
       "<div>\n",
       "<style scoped>\n",
       "    .dataframe tbody tr th:only-of-type {\n",
       "        vertical-align: middle;\n",
       "    }\n",
       "\n",
       "    .dataframe tbody tr th {\n",
       "        vertical-align: top;\n",
       "    }\n",
       "\n",
       "    .dataframe thead th {\n",
       "        text-align: right;\n",
       "    }\n",
       "</style>\n",
       "<table border=\"1\" class=\"dataframe\">\n",
       "  <thead>\n",
       "    <tr style=\"text-align: right;\">\n",
       "      <th></th>\n",
       "      <th>datum</th>\n",
       "      <th>vek</th>\n",
       "    </tr>\n",
       "  </thead>\n",
       "  <tbody>\n",
       "    <tr>\n",
       "      <th>126509</th>\n",
       "      <td>2020-08-17</td>\n",
       "      <td>28</td>\n",
       "    </tr>\n",
       "    <tr>\n",
       "      <th>126510</th>\n",
       "      <td>2020-09-17</td>\n",
       "      <td>55</td>\n",
       "    </tr>\n",
       "    <tr>\n",
       "      <th>126511</th>\n",
       "      <td>2020-09-18</td>\n",
       "      <td>27</td>\n",
       "    </tr>\n",
       "    <tr>\n",
       "      <th>126512</th>\n",
       "      <td>2020-09-21</td>\n",
       "      <td>78</td>\n",
       "    </tr>\n",
       "    <tr>\n",
       "      <th>126513</th>\n",
       "      <td>2020-04-17</td>\n",
       "      <td>45</td>\n",
       "    </tr>\n",
       "  </tbody>\n",
       "</table>\n",
       "</div>"
      ],
      "text/plain": [
       "             datum  vek\n",
       "126509  2020-08-17   28\n",
       "126510  2020-09-17   55\n",
       "126511  2020-09-18   27\n",
       "126512  2020-09-21   78\n",
       "126513  2020-04-17   45"
      ]
     },
     "execution_count": 4,
     "metadata": {},
     "output_type": "execute_result"
    }
   ],
   "source": [
    "df1_trim = df1.drop(['pohlavi', 'kraj_nuts_kod', 'okres_lau_kod', 'nakaza_v_zahranici', 'nakaza_zeme_csu_kod'], axis='columns')\n",
    "df1_trim.tail()"
   ]
  },
  {
   "cell_type": "code",
   "execution_count": 5,
   "metadata": {
    "scrolled": true
   },
   "outputs": [
    {
     "data": {
      "text/html": [
       "<div>\n",
       "<style scoped>\n",
       "    .dataframe tbody tr th:only-of-type {\n",
       "        vertical-align: middle;\n",
       "    }\n",
       "\n",
       "    .dataframe tbody tr th {\n",
       "        vertical-align: top;\n",
       "    }\n",
       "\n",
       "    .dataframe thead th {\n",
       "        text-align: right;\n",
       "    }\n",
       "</style>\n",
       "<table border=\"1\" class=\"dataframe\">\n",
       "  <thead>\n",
       "    <tr style=\"text-align: right;\">\n",
       "      <th></th>\n",
       "      <th>vek</th>\n",
       "    </tr>\n",
       "    <tr>\n",
       "      <th>datum</th>\n",
       "      <th></th>\n",
       "    </tr>\n",
       "  </thead>\n",
       "  <tbody>\n",
       "    <tr>\n",
       "      <th>2020-03-01</th>\n",
       "      <td>3</td>\n",
       "    </tr>\n",
       "    <tr>\n",
       "      <th>2020-03-03</th>\n",
       "      <td>1</td>\n",
       "    </tr>\n",
       "    <tr>\n",
       "      <th>2020-03-04</th>\n",
       "      <td>1</td>\n",
       "    </tr>\n",
       "    <tr>\n",
       "      <th>2020-03-05</th>\n",
       "      <td>3</td>\n",
       "    </tr>\n",
       "    <tr>\n",
       "      <th>2020-03-06</th>\n",
       "      <td>11</td>\n",
       "    </tr>\n",
       "  </tbody>\n",
       "</table>\n",
       "</div>"
      ],
      "text/plain": [
       "            vek\n",
       "datum          \n",
       "2020-03-01    3\n",
       "2020-03-03    1\n",
       "2020-03-04    1\n",
       "2020-03-05    3\n",
       "2020-03-06   11"
      ]
     },
     "execution_count": 5,
     "metadata": {},
     "output_type": "execute_result"
    }
   ],
   "source": [
    "data = df1_trim.groupby('datum').count()\n",
    "data.head()"
   ]
  },
  {
   "cell_type": "code",
   "execution_count": 6,
   "metadata": {},
   "outputs": [
    {
     "data": {
      "text/plain": [
       "[<matplotlib.lines.Line2D at 0x27600e10f40>]"
      ]
     },
     "execution_count": 6,
     "metadata": {},
     "output_type": "execute_result"
    },
    {
     "data": {
      "image/png": "[encoded data removed]",
      "text/plain": [
       "<Figure size 432x288 with 1 Axes>"
      ]
     },
     "metadata": {
      "needs_background": "light"
     },
     "output_type": "display_data"
    }
   ],
   "source": [
    "x = data.index\n",
    "y = data['vek']\n",
    "\n",
    "fig, ax = plt.subplots()\n",
    "\n",
    "ax.xaxis.set_major_locator(plt.MaxNLocator(5))\n",
    "\n",
    "ax.set_title('Daily number of identified people with COVID-19 in Czechia')\n",
    "ax.set_xlabel('Date')\n",
    "ax.set_ylabel('Daily number of new COVID-19 cases')\n",
    "\n",
    "ax.plot(x, y)\n"
   ]
  },
  {
   "cell_type": "code",
   "execution_count": null,
   "metadata": {},
   "outputs": [],
   "source": []
  }
 ],
 "metadata": {
  "kernelspec": {
   "display_name": "Python 3",
   "language": "python",
   "name": "python3"
  },
  "language_info": {
   "codemirror_mode": {
    "name": "ipython",
    "version": 3
   },
   "file_extension": ".py",
   "mimetype": "text/x-python",
   "name": "python",
   "nbconvert_exporter": "python",
   "pygments_lexer": "ipython3",
   "version": "3.8.3"
  }
 },
 "nbformat": 4,
 "nbformat_minor": 4
}
