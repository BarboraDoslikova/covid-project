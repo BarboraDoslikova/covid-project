{
 "cells": [
  {
   "cell_type": "markdown",
   "metadata": {},
   "source": [
    "# Q: Is my 75+ grandpa in Olomouc or my grandpa in Prague in a bigger risk of dying from COVID-19?"
   ]
  },
  {
   "cell_type": "markdown",
   "metadata": {},
   "source": [
    "**Q1: Where is he more likely to catch it? Answered: Equally likely in both cities! [previous notebook](00-part-1-grandpa-olomouc-prague-covid.ipynb)**<br>\n",
    "**Q2: If he caught it, where are people of 75+ more frequently hospitalised? Answered: Equally likely in both cities. [this notebook]**<br>\n",
    "Q3: If hospitalised, where are people of 75+ more frequently dying?<br>\n",
    "<br>\n",
    "Need the following data:<br>\n",
    "* number of people in O and in P *(got it)*\n",
    "* incidence in O and in P per number of people in the city *(got it)*\n",
    "* number of hospitalised 75+ people in Olomouc and in Prague *(cannot get)*\n",
    "* number of hospitalised people in Olomouc and in Prague *(got it)*\n",
    "* number of hospitalised deaths in 75+ people in Olomouc and in Prague *(got it)*\n",
    "* number of deaths in 75+ people in Olomouc and in Prague *(got it)*"
   ]
  },
  {
   "cell_type": "markdown",
   "metadata": {},
   "source": [
    "TO DO:<br>\n",
    "* Find out and resolve SettingWithCopy *(done)*\n",
    "* Find out lau versus orp for exact population and correct *(done)*\n",
    "* What is the '_7' and its significance? *(done)*"
   ]
  },
  {
   "cell_type": "code",
   "execution_count": 1,
   "metadata": {},
   "outputs": [],
   "source": [
    "import pandas as pd\n",
    "import matplotlib.pyplot as plt\n",
    "%matplotlib inline"
   ]
  },
  {
   "cell_type": "code",
   "execution_count": 2,
   "metadata": {},
   "outputs": [],
   "source": [
    "orp_nazev_Prg = 0\n",
    "orp_nazev_Olo = 7107\n",
    "# orp čísluje Správní obvody obcí s rozšířenou působností, nemusejí zatím respektovat území okresů\n",
    "# https://www.czso.cz/csu/czso/13-7111-04--spravni_obvod_obce_s_rozsirenou_pusobnosti_olomouc#:~:text=Celkovou%20rozlohou%2085%20874%20ha,spr%C3%A1vn%C3%AD%20obvod%20Olomouc%20na%202.\n",
    "# from 2004\n",
    "pop_Prg = 1117063\n",
    "pop_Olo = 158479"
   ]
  },
  {
   "cell_type": "code",
   "execution_count": 3,
   "metadata": {
    "scrolled": false
   },
   "outputs": [
    {
     "data": {
      "text/html": [
       "<div>\n",
       "<style scoped>\n",
       "    .dataframe tbody tr th:only-of-type {\n",
       "        vertical-align: middle;\n",
       "    }\n",
       "\n",
       "    .dataframe tbody tr th {\n",
       "        vertical-align: top;\n",
       "    }\n",
       "\n",
       "    .dataframe thead th {\n",
       "        text-align: right;\n",
       "    }\n",
       "</style>\n",
       "<table border=\"1\" class=\"dataframe\">\n",
       "  <thead>\n",
       "    <tr style=\"text-align: right;\">\n",
       "      <th></th>\n",
       "      <th>den</th>\n",
       "      <th>datum</th>\n",
       "      <th>orp_kod</th>\n",
       "      <th>orp_nazev</th>\n",
       "      <th>incidence_7</th>\n",
       "      <th>incidence_65_7</th>\n",
       "      <th>incidence_75_7</th>\n",
       "      <th>prevalence</th>\n",
       "      <th>prevalence_65</th>\n",
       "      <th>prevalence_75</th>\n",
       "      <th>aktualni_pocet_hospitalizovanych_osob</th>\n",
       "      <th>nove_hosp_7</th>\n",
       "      <th>testy_7</th>\n",
       "    </tr>\n",
       "  </thead>\n",
       "  <tbody>\n",
       "    <tr>\n",
       "      <th>0</th>\n",
       "      <td>neděle</td>\n",
       "      <td>2020-03-01</td>\n",
       "      <td>2012</td>\n",
       "      <td>Kutná Hora</td>\n",
       "      <td>0</td>\n",
       "      <td>0</td>\n",
       "      <td>0</td>\n",
       "      <td>0</td>\n",
       "      <td>0</td>\n",
       "      <td>0</td>\n",
       "      <td>NaN</td>\n",
       "      <td>0</td>\n",
       "      <td>NaN</td>\n",
       "    </tr>\n",
       "    <tr>\n",
       "      <th>1</th>\n",
       "      <td>neděle</td>\n",
       "      <td>2020-03-01</td>\n",
       "      <td>6314</td>\n",
       "      <td>Velké Meziříčí</td>\n",
       "      <td>0</td>\n",
       "      <td>0</td>\n",
       "      <td>0</td>\n",
       "      <td>0</td>\n",
       "      <td>0</td>\n",
       "      <td>0</td>\n",
       "      <td>NaN</td>\n",
       "      <td>0</td>\n",
       "      <td>NaN</td>\n",
       "    </tr>\n",
       "    <tr>\n",
       "      <th>2</th>\n",
       "      <td>neděle</td>\n",
       "      <td>2020-03-01</td>\n",
       "      <td>2013</td>\n",
       "      <td>Lysá nad Labem</td>\n",
       "      <td>0</td>\n",
       "      <td>0</td>\n",
       "      <td>0</td>\n",
       "      <td>0</td>\n",
       "      <td>0</td>\n",
       "      <td>0</td>\n",
       "      <td>NaN</td>\n",
       "      <td>0</td>\n",
       "      <td>NaN</td>\n",
       "    </tr>\n",
       "    <tr>\n",
       "      <th>3</th>\n",
       "      <td>neděle</td>\n",
       "      <td>2020-03-01</td>\n",
       "      <td>6315</td>\n",
       "      <td>Žďár nad Sázavou</td>\n",
       "      <td>0</td>\n",
       "      <td>0</td>\n",
       "      <td>0</td>\n",
       "      <td>0</td>\n",
       "      <td>0</td>\n",
       "      <td>0</td>\n",
       "      <td>NaN</td>\n",
       "      <td>0</td>\n",
       "      <td>NaN</td>\n",
       "    </tr>\n",
       "    <tr>\n",
       "      <th>4</th>\n",
       "      <td>neděle</td>\n",
       "      <td>2020-03-01</td>\n",
       "      <td>2014</td>\n",
       "      <td>Mělník</td>\n",
       "      <td>0</td>\n",
       "      <td>0</td>\n",
       "      <td>0</td>\n",
       "      <td>0</td>\n",
       "      <td>0</td>\n",
       "      <td>0</td>\n",
       "      <td>NaN</td>\n",
       "      <td>0</td>\n",
       "      <td>NaN</td>\n",
       "    </tr>\n",
       "  </tbody>\n",
       "</table>\n",
       "</div>"
      ],
      "text/plain": [
       "      den       datum  orp_kod         orp_nazev  incidence_7  incidence_65_7  \\\n",
       "0  neděle  2020-03-01     2012        Kutná Hora            0               0   \n",
       "1  neděle  2020-03-01     6314    Velké Meziříčí            0               0   \n",
       "2  neděle  2020-03-01     2013    Lysá nad Labem            0               0   \n",
       "3  neděle  2020-03-01     6315  Žďár nad Sázavou            0               0   \n",
       "4  neděle  2020-03-01     2014            Mělník            0               0   \n",
       "\n",
       "   incidence_75_7  prevalence  prevalence_65  prevalence_75  \\\n",
       "0               0           0              0              0   \n",
       "1               0           0              0              0   \n",
       "2               0           0              0              0   \n",
       "3               0           0              0              0   \n",
       "4               0           0              0              0   \n",
       "\n",
       "   aktualni_pocet_hospitalizovanych_osob  nove_hosp_7  testy_7  \n",
       "0                                    NaN            0      NaN  \n",
       "1                                    NaN            0      NaN  \n",
       "2                                    NaN            0      NaN  \n",
       "3                                    NaN            0      NaN  \n",
       "4                                    NaN            0      NaN  "
      ]
     },
     "execution_count": 3,
     "metadata": {},
     "output_type": "execute_result"
    }
   ],
   "source": [
    "df_hos = pd.read_csv('..\\\\00-source-data\\\\web_orp_2020-10-11-00-00-36.csv', delimiter=';')\n",
    "df_hos.head()"
   ]
  },
  {
   "cell_type": "code",
   "execution_count": 4,
   "metadata": {},
   "outputs": [
    {
     "data": {
      "text/plain": [
       "206"
      ]
     },
     "execution_count": 4,
     "metadata": {},
     "output_type": "execute_result"
    }
   ],
   "source": [
    "df_hos['orp_kod'].nunique()"
   ]
  },
  {
   "cell_type": "markdown",
   "metadata": {},
   "source": [
    "# Q2: Where is he more likely to get hospitalised?"
   ]
  },
  {
   "cell_type": "code",
   "execution_count": 5,
   "metadata": {},
   "outputs": [
    {
     "data": {
      "text/plain": [
       "den                                       object\n",
       "datum                                     object\n",
       "orp_kod                                    int64\n",
       "orp_nazev                                 object\n",
       "incidence_7                                int64\n",
       "incidence_65_7                             int64\n",
       "incidence_75_7                             int64\n",
       "prevalence                                 int64\n",
       "prevalence_65                              int64\n",
       "prevalence_75                              int64\n",
       "aktualni_pocet_hospitalizovanych_osob    float64\n",
       "nove_hosp_7                                int64\n",
       "testy_7                                  float64\n",
       "dtype: object"
      ]
     },
     "execution_count": 5,
     "metadata": {},
     "output_type": "execute_result"
    }
   ],
   "source": [
    "df_hos.dtypes"
   ]
  },
  {
   "cell_type": "code",
   "execution_count": 6,
   "metadata": {
    "scrolled": true
   },
   "outputs": [
    {
     "data": {
      "text/html": [
       "<div>\n",
       "<style scoped>\n",
       "    .dataframe tbody tr th:only-of-type {\n",
       "        vertical-align: middle;\n",
       "    }\n",
       "\n",
       "    .dataframe tbody tr th {\n",
       "        vertical-align: top;\n",
       "    }\n",
       "\n",
       "    .dataframe thead th {\n",
       "        text-align: right;\n",
       "    }\n",
       "</style>\n",
       "<table border=\"1\" class=\"dataframe\">\n",
       "  <thead>\n",
       "    <tr style=\"text-align: right;\">\n",
       "      <th></th>\n",
       "      <th>den</th>\n",
       "      <th>datum</th>\n",
       "      <th>orp_kod</th>\n",
       "      <th>orp_nazev</th>\n",
       "      <th>incidence_7</th>\n",
       "      <th>incidence_65_7</th>\n",
       "      <th>incidence_75_7</th>\n",
       "      <th>prevalence</th>\n",
       "      <th>prevalence_65</th>\n",
       "      <th>prevalence_75</th>\n",
       "      <th>aktualni_pocet_hospitalizovanych_osob</th>\n",
       "      <th>nove_hosp_7</th>\n",
       "      <th>testy_7</th>\n",
       "    </tr>\n",
       "  </thead>\n",
       "  <tbody>\n",
       "    <tr>\n",
       "      <th>59</th>\n",
       "      <td>neděle</td>\n",
       "      <td>2020-03-01</td>\n",
       "      <td>7107</td>\n",
       "      <td>Olomouc</td>\n",
       "      <td>0</td>\n",
       "      <td>0</td>\n",
       "      <td>0</td>\n",
       "      <td>0</td>\n",
       "      <td>0</td>\n",
       "      <td>0</td>\n",
       "      <td>NaN</td>\n",
       "      <td>0</td>\n",
       "      <td>NaN</td>\n",
       "    </tr>\n",
       "    <tr>\n",
       "      <th>216</th>\n",
       "      <td>pondělí</td>\n",
       "      <td>2020-03-02</td>\n",
       "      <td>7107</td>\n",
       "      <td>Olomouc</td>\n",
       "      <td>0</td>\n",
       "      <td>0</td>\n",
       "      <td>0</td>\n",
       "      <td>0</td>\n",
       "      <td>0</td>\n",
       "      <td>0</td>\n",
       "      <td>NaN</td>\n",
       "      <td>0</td>\n",
       "      <td>NaN</td>\n",
       "    </tr>\n",
       "    <tr>\n",
       "      <th>471</th>\n",
       "      <td>úterý</td>\n",
       "      <td>2020-03-03</td>\n",
       "      <td>7107</td>\n",
       "      <td>Olomouc</td>\n",
       "      <td>0</td>\n",
       "      <td>0</td>\n",
       "      <td>0</td>\n",
       "      <td>0</td>\n",
       "      <td>0</td>\n",
       "      <td>0</td>\n",
       "      <td>NaN</td>\n",
       "      <td>0</td>\n",
       "      <td>NaN</td>\n",
       "    </tr>\n",
       "    <tr>\n",
       "      <th>628</th>\n",
       "      <td>středa</td>\n",
       "      <td>2020-03-04</td>\n",
       "      <td>7107</td>\n",
       "      <td>Olomouc</td>\n",
       "      <td>0</td>\n",
       "      <td>0</td>\n",
       "      <td>0</td>\n",
       "      <td>0</td>\n",
       "      <td>0</td>\n",
       "      <td>0</td>\n",
       "      <td>NaN</td>\n",
       "      <td>0</td>\n",
       "      <td>NaN</td>\n",
       "    </tr>\n",
       "    <tr>\n",
       "      <th>883</th>\n",
       "      <td>čtvrtek</td>\n",
       "      <td>2020-03-05</td>\n",
       "      <td>7107</td>\n",
       "      <td>Olomouc</td>\n",
       "      <td>0</td>\n",
       "      <td>0</td>\n",
       "      <td>0</td>\n",
       "      <td>0</td>\n",
       "      <td>0</td>\n",
       "      <td>0</td>\n",
       "      <td>NaN</td>\n",
       "      <td>0</td>\n",
       "      <td>1.0</td>\n",
       "    </tr>\n",
       "  </tbody>\n",
       "</table>\n",
       "</div>"
      ],
      "text/plain": [
       "         den       datum  orp_kod orp_nazev  incidence_7  incidence_65_7  \\\n",
       "59    neděle  2020-03-01     7107   Olomouc            0               0   \n",
       "216  pondělí  2020-03-02     7107   Olomouc            0               0   \n",
       "471    úterý  2020-03-03     7107   Olomouc            0               0   \n",
       "628   středa  2020-03-04     7107   Olomouc            0               0   \n",
       "883  čtvrtek  2020-03-05     7107   Olomouc            0               0   \n",
       "\n",
       "     incidence_75_7  prevalence  prevalence_65  prevalence_75  \\\n",
       "59                0           0              0              0   \n",
       "216               0           0              0              0   \n",
       "471               0           0              0              0   \n",
       "628               0           0              0              0   \n",
       "883               0           0              0              0   \n",
       "\n",
       "     aktualni_pocet_hospitalizovanych_osob  nove_hosp_7  testy_7  \n",
       "59                                     NaN            0      NaN  \n",
       "216                                    NaN            0      NaN  \n",
       "471                                    NaN            0      NaN  \n",
       "628                                    NaN            0      NaN  \n",
       "883                                    NaN            0      1.0  "
      ]
     },
     "execution_count": 6,
     "metadata": {},
     "output_type": "execute_result"
    }
   ],
   "source": [
    "df_hos_Olo = df_hos[df_hos['orp_kod']==orp_nazev_Olo].copy()\n",
    "df_hos_Olo.head()"
   ]
  },
  {
   "cell_type": "code",
   "execution_count": 7,
   "metadata": {},
   "outputs": [
    {
     "data": {
      "text/html": [
       "<div>\n",
       "<style scoped>\n",
       "    .dataframe tbody tr th:only-of-type {\n",
       "        vertical-align: middle;\n",
       "    }\n",
       "\n",
       "    .dataframe tbody tr th {\n",
       "        vertical-align: top;\n",
       "    }\n",
       "\n",
       "    .dataframe thead th {\n",
       "        text-align: right;\n",
       "    }\n",
       "</style>\n",
       "<table border=\"1\" class=\"dataframe\">\n",
       "  <thead>\n",
       "    <tr style=\"text-align: right;\">\n",
       "      <th></th>\n",
       "      <th>den</th>\n",
       "      <th>datum</th>\n",
       "      <th>orp_kod</th>\n",
       "      <th>orp_nazev</th>\n",
       "      <th>incidence_7</th>\n",
       "      <th>incidence_65_7</th>\n",
       "      <th>incidence_75_7</th>\n",
       "      <th>prevalence</th>\n",
       "      <th>prevalence_65</th>\n",
       "      <th>prevalence_75</th>\n",
       "      <th>aktualni_pocet_hospitalizovanych_osob</th>\n",
       "      <th>nove_hosp_7</th>\n",
       "      <th>testy_7</th>\n",
       "    </tr>\n",
       "  </thead>\n",
       "  <tbody>\n",
       "    <tr>\n",
       "      <th>182</th>\n",
       "      <td>neděle</td>\n",
       "      <td>2020-03-01</td>\n",
       "      <td>0</td>\n",
       "      <td>Praha</td>\n",
       "      <td>2</td>\n",
       "      <td>1</td>\n",
       "      <td>0</td>\n",
       "      <td>2</td>\n",
       "      <td>1</td>\n",
       "      <td>0</td>\n",
       "      <td>NaN</td>\n",
       "      <td>0</td>\n",
       "      <td>NaN</td>\n",
       "    </tr>\n",
       "    <tr>\n",
       "      <th>368</th>\n",
       "      <td>pondělí</td>\n",
       "      <td>2020-03-02</td>\n",
       "      <td>0</td>\n",
       "      <td>Praha</td>\n",
       "      <td>2</td>\n",
       "      <td>1</td>\n",
       "      <td>0</td>\n",
       "      <td>2</td>\n",
       "      <td>1</td>\n",
       "      <td>0</td>\n",
       "      <td>NaN</td>\n",
       "      <td>0</td>\n",
       "      <td>NaN</td>\n",
       "    </tr>\n",
       "    <tr>\n",
       "      <th>594</th>\n",
       "      <td>úterý</td>\n",
       "      <td>2020-03-03</td>\n",
       "      <td>0</td>\n",
       "      <td>Praha</td>\n",
       "      <td>3</td>\n",
       "      <td>1</td>\n",
       "      <td>0</td>\n",
       "      <td>3</td>\n",
       "      <td>1</td>\n",
       "      <td>0</td>\n",
       "      <td>NaN</td>\n",
       "      <td>0</td>\n",
       "      <td>2.0</td>\n",
       "    </tr>\n",
       "    <tr>\n",
       "      <th>780</th>\n",
       "      <td>středa</td>\n",
       "      <td>2020-03-04</td>\n",
       "      <td>0</td>\n",
       "      <td>Praha</td>\n",
       "      <td>4</td>\n",
       "      <td>1</td>\n",
       "      <td>0</td>\n",
       "      <td>4</td>\n",
       "      <td>1</td>\n",
       "      <td>0</td>\n",
       "      <td>NaN</td>\n",
       "      <td>0</td>\n",
       "      <td>4.0</td>\n",
       "    </tr>\n",
       "    <tr>\n",
       "      <th>1006</th>\n",
       "      <td>čtvrtek</td>\n",
       "      <td>2020-03-05</td>\n",
       "      <td>0</td>\n",
       "      <td>Praha</td>\n",
       "      <td>4</td>\n",
       "      <td>1</td>\n",
       "      <td>0</td>\n",
       "      <td>4</td>\n",
       "      <td>1</td>\n",
       "      <td>0</td>\n",
       "      <td>NaN</td>\n",
       "      <td>0</td>\n",
       "      <td>6.0</td>\n",
       "    </tr>\n",
       "  </tbody>\n",
       "</table>\n",
       "</div>"
      ],
      "text/plain": [
       "          den       datum  orp_kod orp_nazev  incidence_7  incidence_65_7  \\\n",
       "182    neděle  2020-03-01        0     Praha            2               1   \n",
       "368   pondělí  2020-03-02        0     Praha            2               1   \n",
       "594     úterý  2020-03-03        0     Praha            3               1   \n",
       "780    středa  2020-03-04        0     Praha            4               1   \n",
       "1006  čtvrtek  2020-03-05        0     Praha            4               1   \n",
       "\n",
       "      incidence_75_7  prevalence  prevalence_65  prevalence_75  \\\n",
       "182                0           2              1              0   \n",
       "368                0           2              1              0   \n",
       "594                0           3              1              0   \n",
       "780                0           4              1              0   \n",
       "1006               0           4              1              0   \n",
       "\n",
       "      aktualni_pocet_hospitalizovanych_osob  nove_hosp_7  testy_7  \n",
       "182                                     NaN            0      NaN  \n",
       "368                                     NaN            0      NaN  \n",
       "594                                     NaN            0      2.0  \n",
       "780                                     NaN            0      4.0  \n",
       "1006                                    NaN            0      6.0  "
      ]
     },
     "execution_count": 7,
     "metadata": {},
     "output_type": "execute_result"
    }
   ],
   "source": [
    "df_hos_Prg = df_hos[df_hos['orp_kod']==orp_nazev_Prg].copy()\n",
    "df_hos_Prg.head()"
   ]
  },
  {
   "cell_type": "code",
   "execution_count": 8,
   "metadata": {},
   "outputs": [
    {
     "data": {
      "text/plain": [
       "Index(['den', 'datum', 'orp_kod', 'orp_nazev', 'incidence_7', 'incidence_65_7',\n",
       "       'incidence_75_7', 'prevalence', 'prevalence_65', 'prevalence_75',\n",
       "       'aktualni_pocet_hospitalizovanych_osob', 'nove_hosp_7', 'testy_7'],\n",
       "      dtype='object')"
      ]
     },
     "execution_count": 8,
     "metadata": {},
     "output_type": "execute_result"
    }
   ],
   "source": [
    "df_hos_Olo.columns"
   ]
  },
  {
   "cell_type": "code",
   "execution_count": 9,
   "metadata": {},
   "outputs": [],
   "source": [
    "column_names = ['datum', 'nove_hosp_7']"
   ]
  },
  {
   "cell_type": "code",
   "execution_count": 10,
   "metadata": {
    "scrolled": true
   },
   "outputs": [
    {
     "data": {
      "text/html": [
       "<div>\n",
       "<style scoped>\n",
       "    .dataframe tbody tr th:only-of-type {\n",
       "        vertical-align: middle;\n",
       "    }\n",
       "\n",
       "    .dataframe tbody tr th {\n",
       "        vertical-align: top;\n",
       "    }\n",
       "\n",
       "    .dataframe thead th {\n",
       "        text-align: right;\n",
       "    }\n",
       "</style>\n",
       "<table border=\"1\" class=\"dataframe\">\n",
       "  <thead>\n",
       "    <tr style=\"text-align: right;\">\n",
       "      <th></th>\n",
       "      <th>datum</th>\n",
       "      <th>nove_hosp_7</th>\n",
       "    </tr>\n",
       "  </thead>\n",
       "  <tbody>\n",
       "    <tr>\n",
       "      <th>45381</th>\n",
       "      <td>2020-10-07</td>\n",
       "      <td>27</td>\n",
       "    </tr>\n",
       "    <tr>\n",
       "      <th>45534</th>\n",
       "      <td>2020-10-08</td>\n",
       "      <td>30</td>\n",
       "    </tr>\n",
       "    <tr>\n",
       "      <th>45793</th>\n",
       "      <td>2020-10-09</td>\n",
       "      <td>31</td>\n",
       "    </tr>\n",
       "    <tr>\n",
       "      <th>45946</th>\n",
       "      <td>2020-10-10</td>\n",
       "      <td>29</td>\n",
       "    </tr>\n",
       "    <tr>\n",
       "      <th>46205</th>\n",
       "      <td>2020-10-11</td>\n",
       "      <td>25</td>\n",
       "    </tr>\n",
       "  </tbody>\n",
       "</table>\n",
       "</div>"
      ],
      "text/plain": [
       "            datum  nove_hosp_7\n",
       "45381  2020-10-07           27\n",
       "45534  2020-10-08           30\n",
       "45793  2020-10-09           31\n",
       "45946  2020-10-10           29\n",
       "46205  2020-10-11           25"
      ]
     },
     "execution_count": 10,
     "metadata": {},
     "output_type": "execute_result"
    }
   ],
   "source": [
    "df_hos_Olo_trim = df_hos_Olo[column_names].copy()\n",
    "df_hos_Olo_trim.tail()"
   ]
  },
  {
   "cell_type": "code",
   "execution_count": 11,
   "metadata": {},
   "outputs": [
    {
     "data": {
      "text/html": [
       "<div>\n",
       "<style scoped>\n",
       "    .dataframe tbody tr th:only-of-type {\n",
       "        vertical-align: middle;\n",
       "    }\n",
       "\n",
       "    .dataframe tbody tr th {\n",
       "        vertical-align: top;\n",
       "    }\n",
       "\n",
       "    .dataframe thead th {\n",
       "        text-align: right;\n",
       "    }\n",
       "</style>\n",
       "<table border=\"1\" class=\"dataframe\">\n",
       "  <thead>\n",
       "    <tr style=\"text-align: right;\">\n",
       "      <th></th>\n",
       "      <th>datum</th>\n",
       "      <th>nove_hosp_7</th>\n",
       "    </tr>\n",
       "  </thead>\n",
       "  <tbody>\n",
       "    <tr>\n",
       "      <th>45503</th>\n",
       "      <td>2020-10-07</td>\n",
       "      <td>185</td>\n",
       "    </tr>\n",
       "    <tr>\n",
       "      <th>45687</th>\n",
       "      <td>2020-10-08</td>\n",
       "      <td>210</td>\n",
       "    </tr>\n",
       "    <tr>\n",
       "      <th>45915</th>\n",
       "      <td>2020-10-09</td>\n",
       "      <td>216</td>\n",
       "    </tr>\n",
       "    <tr>\n",
       "      <th>46099</th>\n",
       "      <td>2020-10-10</td>\n",
       "      <td>228</td>\n",
       "    </tr>\n",
       "    <tr>\n",
       "      <th>46327</th>\n",
       "      <td>2020-10-11</td>\n",
       "      <td>210</td>\n",
       "    </tr>\n",
       "  </tbody>\n",
       "</table>\n",
       "</div>"
      ],
      "text/plain": [
       "            datum  nove_hosp_7\n",
       "45503  2020-10-07          185\n",
       "45687  2020-10-08          210\n",
       "45915  2020-10-09          216\n",
       "46099  2020-10-10          228\n",
       "46327  2020-10-11          210"
      ]
     },
     "execution_count": 11,
     "metadata": {},
     "output_type": "execute_result"
    }
   ],
   "source": [
    "df_hos_Prg_trim = df_hos_Prg[column_names].copy()\n",
    "df_hos_Prg_trim.tail()"
   ]
  },
  {
   "cell_type": "code",
   "execution_count": 12,
   "metadata": {},
   "outputs": [
    {
     "data": {
      "text/plain": [
       "datum          object\n",
       "nove_hosp_7     int64\n",
       "dtype: object"
      ]
     },
     "execution_count": 12,
     "metadata": {},
     "output_type": "execute_result"
    }
   ],
   "source": [
    "df_hos_Olo_trim.dtypes"
   ]
  },
  {
   "cell_type": "code",
   "execution_count": 13,
   "metadata": {
    "scrolled": true
   },
   "outputs": [
    {
     "data": {
      "text/plain": [
       "datum          datetime64[ns]\n",
       "nove_hosp_7             int64\n",
       "dtype: object"
      ]
     },
     "execution_count": 13,
     "metadata": {},
     "output_type": "execute_result"
    }
   ],
   "source": [
    "df_hos_Olo_trim['datum'] = df_hos_Olo_trim['datum'].apply(pd.to_datetime)\n",
    "df_hos_Olo_trim.dtypes"
   ]
  },
  {
   "cell_type": "code",
   "execution_count": 14,
   "metadata": {},
   "outputs": [
    {
     "data": {
      "text/plain": [
       "datum          datetime64[ns]\n",
       "nove_hosp_7             int64\n",
       "dtype: object"
      ]
     },
     "execution_count": 14,
     "metadata": {},
     "output_type": "execute_result"
    }
   ],
   "source": [
    "df_hos_Prg_trim['datum'] = df_hos_Prg_trim['datum'].apply(pd.to_datetime)\n",
    "df_hos_Prg_trim.dtypes"
   ]
  },
  {
   "cell_type": "code",
   "execution_count": 15,
   "metadata": {},
   "outputs": [
    {
     "data": {
      "image/png": "[encoded data removed]",
      "text/plain": [
       "<Figure size 432x288 with 1 Axes>"
      ]
     },
     "metadata": {
      "needs_background": "light"
     },
     "output_type": "display_data"
    }
   ],
   "source": [
    "fig, ax = plt.subplots()\n",
    "\n",
    "ax.plot(df_hos_Prg_trim['datum'], df_hos_Prg_trim['nove_hosp_7'], 'r', label='Prague')\n",
    "ax.plot(df_hos_Olo_trim['datum'], df_hos_Olo_trim['nove_hosp_7'], 'b--', label='Olomouc')\n",
    "ax.set_ylabel('Number of new hospitalisations')\n",
    "\n",
    "legend = ax.legend(loc='upper left', shadow=True, fontsize='large')\n",
    "\n",
    "fig.suptitle('Moving weekly averages of new hospitalisations in Olomouc and Prague')\n",
    "plt.xlabel('Date')\n",
    "\n",
    "plt.show()"
   ]
  },
  {
   "cell_type": "markdown",
   "metadata": {},
   "source": [
    "# Adjust by pupolation"
   ]
  },
  {
   "cell_type": "code",
   "execution_count": 16,
   "metadata": {},
   "outputs": [
    {
     "data": {
      "text/html": [
       "<div>\n",
       "<style scoped>\n",
       "    .dataframe tbody tr th:only-of-type {\n",
       "        vertical-align: middle;\n",
       "    }\n",
       "\n",
       "    .dataframe tbody tr th {\n",
       "        vertical-align: top;\n",
       "    }\n",
       "\n",
       "    .dataframe thead th {\n",
       "        text-align: right;\n",
       "    }\n",
       "</style>\n",
       "<table border=\"1\" class=\"dataframe\">\n",
       "  <thead>\n",
       "    <tr style=\"text-align: right;\">\n",
       "      <th></th>\n",
       "      <th>datum</th>\n",
       "      <th>nove_hosp_7</th>\n",
       "    </tr>\n",
       "  </thead>\n",
       "  <tbody>\n",
       "    <tr>\n",
       "      <th>45381</th>\n",
       "      <td>2020-10-07</td>\n",
       "      <td>27</td>\n",
       "    </tr>\n",
       "    <tr>\n",
       "      <th>45534</th>\n",
       "      <td>2020-10-08</td>\n",
       "      <td>30</td>\n",
       "    </tr>\n",
       "    <tr>\n",
       "      <th>45793</th>\n",
       "      <td>2020-10-09</td>\n",
       "      <td>31</td>\n",
       "    </tr>\n",
       "    <tr>\n",
       "      <th>45946</th>\n",
       "      <td>2020-10-10</td>\n",
       "      <td>29</td>\n",
       "    </tr>\n",
       "    <tr>\n",
       "      <th>46205</th>\n",
       "      <td>2020-10-11</td>\n",
       "      <td>25</td>\n",
       "    </tr>\n",
       "  </tbody>\n",
       "</table>\n",
       "</div>"
      ],
      "text/plain": [
       "           datum  nove_hosp_7\n",
       "45381 2020-10-07           27\n",
       "45534 2020-10-08           30\n",
       "45793 2020-10-09           31\n",
       "45946 2020-10-10           29\n",
       "46205 2020-10-11           25"
      ]
     },
     "execution_count": 16,
     "metadata": {},
     "output_type": "execute_result"
    }
   ],
   "source": [
    "df_hos_Olo_trim.tail()"
   ]
  },
  {
   "cell_type": "code",
   "execution_count": 17,
   "metadata": {},
   "outputs": [
    {
     "data": {
      "text/html": [
       "<div>\n",
       "<style scoped>\n",
       "    .dataframe tbody tr th:only-of-type {\n",
       "        vertical-align: middle;\n",
       "    }\n",
       "\n",
       "    .dataframe tbody tr th {\n",
       "        vertical-align: top;\n",
       "    }\n",
       "\n",
       "    .dataframe thead th {\n",
       "        text-align: right;\n",
       "    }\n",
       "</style>\n",
       "<table border=\"1\" class=\"dataframe\">\n",
       "  <thead>\n",
       "    <tr style=\"text-align: right;\">\n",
       "      <th></th>\n",
       "      <th>datum</th>\n",
       "      <th>nove_hosp_7</th>\n",
       "    </tr>\n",
       "  </thead>\n",
       "  <tbody>\n",
       "    <tr>\n",
       "      <th>45503</th>\n",
       "      <td>2020-10-07</td>\n",
       "      <td>185</td>\n",
       "    </tr>\n",
       "    <tr>\n",
       "      <th>45687</th>\n",
       "      <td>2020-10-08</td>\n",
       "      <td>210</td>\n",
       "    </tr>\n",
       "    <tr>\n",
       "      <th>45915</th>\n",
       "      <td>2020-10-09</td>\n",
       "      <td>216</td>\n",
       "    </tr>\n",
       "    <tr>\n",
       "      <th>46099</th>\n",
       "      <td>2020-10-10</td>\n",
       "      <td>228</td>\n",
       "    </tr>\n",
       "    <tr>\n",
       "      <th>46327</th>\n",
       "      <td>2020-10-11</td>\n",
       "      <td>210</td>\n",
       "    </tr>\n",
       "  </tbody>\n",
       "</table>\n",
       "</div>"
      ],
      "text/plain": [
       "           datum  nove_hosp_7\n",
       "45503 2020-10-07          185\n",
       "45687 2020-10-08          210\n",
       "45915 2020-10-09          216\n",
       "46099 2020-10-10          228\n",
       "46327 2020-10-11          210"
      ]
     },
     "execution_count": 17,
     "metadata": {},
     "output_type": "execute_result"
    }
   ],
   "source": [
    "df_hos_Prg_trim.tail()"
   ]
  },
  {
   "cell_type": "code",
   "execution_count": 18,
   "metadata": {},
   "outputs": [
    {
     "data": {
      "text/html": [
       "<div>\n",
       "<style scoped>\n",
       "    .dataframe tbody tr th:only-of-type {\n",
       "        vertical-align: middle;\n",
       "    }\n",
       "\n",
       "    .dataframe tbody tr th {\n",
       "        vertical-align: top;\n",
       "    }\n",
       "\n",
       "    .dataframe thead th {\n",
       "        text-align: right;\n",
       "    }\n",
       "</style>\n",
       "<table border=\"1\" class=\"dataframe\">\n",
       "  <thead>\n",
       "    <tr style=\"text-align: right;\">\n",
       "      <th></th>\n",
       "      <th>datum</th>\n",
       "      <th>nove_hosp_7</th>\n",
       "    </tr>\n",
       "  </thead>\n",
       "  <tbody>\n",
       "    <tr>\n",
       "      <th>59</th>\n",
       "      <td>2020-03-01</td>\n",
       "      <td>0</td>\n",
       "    </tr>\n",
       "    <tr>\n",
       "      <th>216</th>\n",
       "      <td>2020-03-02</td>\n",
       "      <td>0</td>\n",
       "    </tr>\n",
       "    <tr>\n",
       "      <th>471</th>\n",
       "      <td>2020-03-03</td>\n",
       "      <td>0</td>\n",
       "    </tr>\n",
       "    <tr>\n",
       "      <th>628</th>\n",
       "      <td>2020-03-04</td>\n",
       "      <td>0</td>\n",
       "    </tr>\n",
       "    <tr>\n",
       "      <th>883</th>\n",
       "      <td>2020-03-05</td>\n",
       "      <td>0</td>\n",
       "    </tr>\n",
       "  </tbody>\n",
       "</table>\n",
       "</div>"
      ],
      "text/plain": [
       "         datum  nove_hosp_7\n",
       "59  2020-03-01            0\n",
       "216 2020-03-02            0\n",
       "471 2020-03-03            0\n",
       "628 2020-03-04            0\n",
       "883 2020-03-05            0"
      ]
     },
     "execution_count": 18,
     "metadata": {},
     "output_type": "execute_result"
    }
   ],
   "source": [
    "df_hos_Olo_trim_extra = df_hos_Olo_trim.copy()\n",
    "df_hos_Olo_trim_extra.head()"
   ]
  },
  {
   "cell_type": "code",
   "execution_count": 19,
   "metadata": {},
   "outputs": [
    {
     "data": {
      "text/html": [
       "<div>\n",
       "<style scoped>\n",
       "    .dataframe tbody tr th:only-of-type {\n",
       "        vertical-align: middle;\n",
       "    }\n",
       "\n",
       "    .dataframe tbody tr th {\n",
       "        vertical-align: top;\n",
       "    }\n",
       "\n",
       "    .dataframe thead th {\n",
       "        text-align: right;\n",
       "    }\n",
       "</style>\n",
       "<table border=\"1\" class=\"dataframe\">\n",
       "  <thead>\n",
       "    <tr style=\"text-align: right;\">\n",
       "      <th></th>\n",
       "      <th>datum</th>\n",
       "      <th>nove_hosp_7</th>\n",
       "      <th>nove_hosp_7_adj</th>\n",
       "    </tr>\n",
       "  </thead>\n",
       "  <tbody>\n",
       "    <tr>\n",
       "      <th>59</th>\n",
       "      <td>2020-03-01</td>\n",
       "      <td>0</td>\n",
       "      <td>0.0</td>\n",
       "    </tr>\n",
       "    <tr>\n",
       "      <th>216</th>\n",
       "      <td>2020-03-02</td>\n",
       "      <td>0</td>\n",
       "      <td>0.0</td>\n",
       "    </tr>\n",
       "    <tr>\n",
       "      <th>471</th>\n",
       "      <td>2020-03-03</td>\n",
       "      <td>0</td>\n",
       "      <td>0.0</td>\n",
       "    </tr>\n",
       "    <tr>\n",
       "      <th>628</th>\n",
       "      <td>2020-03-04</td>\n",
       "      <td>0</td>\n",
       "      <td>0.0</td>\n",
       "    </tr>\n",
       "    <tr>\n",
       "      <th>883</th>\n",
       "      <td>2020-03-05</td>\n",
       "      <td>0</td>\n",
       "      <td>0.0</td>\n",
       "    </tr>\n",
       "  </tbody>\n",
       "</table>\n",
       "</div>"
      ],
      "text/plain": [
       "         datum  nove_hosp_7  nove_hosp_7_adj\n",
       "59  2020-03-01            0              0.0\n",
       "216 2020-03-02            0              0.0\n",
       "471 2020-03-03            0              0.0\n",
       "628 2020-03-04            0              0.0\n",
       "883 2020-03-05            0              0.0"
      ]
     },
     "execution_count": 19,
     "metadata": {},
     "output_type": "execute_result"
    }
   ],
   "source": [
    "df_hos_Olo_trim_extra['nove_hosp_7_adj'] = df_hos_Olo_trim['nove_hosp_7']/pop_Olo\n",
    "df_hos_Olo_trim_extra.head()"
   ]
  },
  {
   "cell_type": "code",
   "execution_count": 20,
   "metadata": {},
   "outputs": [
    {
     "data": {
      "text/html": [
       "<div>\n",
       "<style scoped>\n",
       "    .dataframe tbody tr th:only-of-type {\n",
       "        vertical-align: middle;\n",
       "    }\n",
       "\n",
       "    .dataframe tbody tr th {\n",
       "        vertical-align: top;\n",
       "    }\n",
       "\n",
       "    .dataframe thead th {\n",
       "        text-align: right;\n",
       "    }\n",
       "</style>\n",
       "<table border=\"1\" class=\"dataframe\">\n",
       "  <thead>\n",
       "    <tr style=\"text-align: right;\">\n",
       "      <th></th>\n",
       "      <th>datum</th>\n",
       "      <th>nove_hosp_7</th>\n",
       "    </tr>\n",
       "  </thead>\n",
       "  <tbody>\n",
       "    <tr>\n",
       "      <th>182</th>\n",
       "      <td>2020-03-01</td>\n",
       "      <td>0</td>\n",
       "    </tr>\n",
       "    <tr>\n",
       "      <th>368</th>\n",
       "      <td>2020-03-02</td>\n",
       "      <td>0</td>\n",
       "    </tr>\n",
       "    <tr>\n",
       "      <th>594</th>\n",
       "      <td>2020-03-03</td>\n",
       "      <td>0</td>\n",
       "    </tr>\n",
       "    <tr>\n",
       "      <th>780</th>\n",
       "      <td>2020-03-04</td>\n",
       "      <td>0</td>\n",
       "    </tr>\n",
       "    <tr>\n",
       "      <th>1006</th>\n",
       "      <td>2020-03-05</td>\n",
       "      <td>0</td>\n",
       "    </tr>\n",
       "  </tbody>\n",
       "</table>\n",
       "</div>"
      ],
      "text/plain": [
       "          datum  nove_hosp_7\n",
       "182  2020-03-01            0\n",
       "368  2020-03-02            0\n",
       "594  2020-03-03            0\n",
       "780  2020-03-04            0\n",
       "1006 2020-03-05            0"
      ]
     },
     "execution_count": 20,
     "metadata": {},
     "output_type": "execute_result"
    }
   ],
   "source": [
    "df_hos_Prg_trim_extra = df_hos_Prg_trim.copy()\n",
    "df_hos_Prg_trim_extra.head()"
   ]
  },
  {
   "cell_type": "code",
   "execution_count": 21,
   "metadata": {
    "scrolled": true
   },
   "outputs": [
    {
     "data": {
      "text/html": [
       "<div>\n",
       "<style scoped>\n",
       "    .dataframe tbody tr th:only-of-type {\n",
       "        vertical-align: middle;\n",
       "    }\n",
       "\n",
       "    .dataframe tbody tr th {\n",
       "        vertical-align: top;\n",
       "    }\n",
       "\n",
       "    .dataframe thead th {\n",
       "        text-align: right;\n",
       "    }\n",
       "</style>\n",
       "<table border=\"1\" class=\"dataframe\">\n",
       "  <thead>\n",
       "    <tr style=\"text-align: right;\">\n",
       "      <th></th>\n",
       "      <th>datum</th>\n",
       "      <th>nove_hosp_7</th>\n",
       "      <th>nove_hosp_7_adj</th>\n",
       "    </tr>\n",
       "  </thead>\n",
       "  <tbody>\n",
       "    <tr>\n",
       "      <th>45503</th>\n",
       "      <td>2020-10-07</td>\n",
       "      <td>185</td>\n",
       "      <td>0.000166</td>\n",
       "    </tr>\n",
       "    <tr>\n",
       "      <th>45687</th>\n",
       "      <td>2020-10-08</td>\n",
       "      <td>210</td>\n",
       "      <td>0.000188</td>\n",
       "    </tr>\n",
       "    <tr>\n",
       "      <th>45915</th>\n",
       "      <td>2020-10-09</td>\n",
       "      <td>216</td>\n",
       "      <td>0.000193</td>\n",
       "    </tr>\n",
       "    <tr>\n",
       "      <th>46099</th>\n",
       "      <td>2020-10-10</td>\n",
       "      <td>228</td>\n",
       "      <td>0.000204</td>\n",
       "    </tr>\n",
       "    <tr>\n",
       "      <th>46327</th>\n",
       "      <td>2020-10-11</td>\n",
       "      <td>210</td>\n",
       "      <td>0.000188</td>\n",
       "    </tr>\n",
       "  </tbody>\n",
       "</table>\n",
       "</div>"
      ],
      "text/plain": [
       "           datum  nove_hosp_7  nove_hosp_7_adj\n",
       "45503 2020-10-07          185         0.000166\n",
       "45687 2020-10-08          210         0.000188\n",
       "45915 2020-10-09          216         0.000193\n",
       "46099 2020-10-10          228         0.000204\n",
       "46327 2020-10-11          210         0.000188"
      ]
     },
     "execution_count": 21,
     "metadata": {},
     "output_type": "execute_result"
    }
   ],
   "source": [
    "df_hos_Prg_trim_extra['nove_hosp_7_adj'] = df_hos_Prg_trim['nove_hosp_7']/pop_Prg\n",
    "df_hos_Prg_trim_extra.tail()"
   ]
  },
  {
   "cell_type": "code",
   "execution_count": 22,
   "metadata": {},
   "outputs": [
    {
     "data": {
      "image/png": "[encoded data removed]",
      "text/plain": [
       "<Figure size 432x288 with 1 Axes>"
      ]
     },
     "metadata": {
      "needs_background": "light"
     },
     "output_type": "display_data"
    }
   ],
   "source": [
    "fig, ax = plt.subplots()\n",
    "\n",
    "ax.plot(df_hos_Prg_trim_extra['datum'], df_hos_Prg_trim_extra['nove_hosp_7_adj'], 'r', label='Prague')\n",
    "ax.plot(df_hos_Olo_trim_extra['datum'], df_hos_Olo_trim_extra['nove_hosp_7_adj'], 'b--', label='Olomouc')\n",
    "ax.set_ylabel('Number of new hospitalisations')\n",
    "\n",
    "legend = ax.legend(loc='upper left', shadow=True, fontsize='large')\n",
    "\n",
    "fig.suptitle('Moving weekly averages of new hospitalisations in Olomouc and Prague adjusted by population')\n",
    "plt.xlabel('Date')\n",
    "\n",
    "plt.show()"
   ]
  },
  {
   "cell_type": "markdown",
   "metadata": {},
   "source": [
    "# Is this significantly similar? A: Yes."
   ]
  },
  {
   "cell_type": "code",
   "execution_count": 23,
   "metadata": {},
   "outputs": [
    {
     "name": "stdout",
     "output_type": "stream",
     "text": [
      "225 225\n"
     ]
    }
   ],
   "source": [
    "print(len(df_hos_Prg_trim_extra.index), len(df_hos_Olo_trim_extra.index))"
   ]
  },
  {
   "cell_type": "code",
   "execution_count": 24,
   "metadata": {},
   "outputs": [
    {
     "name": "stdout",
     "output_type": "stream",
     "text": [
      "datum              0\n",
      "nove_hosp_7        0\n",
      "nove_hosp_7_adj    0\n",
      "dtype: int64\n",
      "datum              0\n",
      "nove_hosp_7        0\n",
      "nove_hosp_7_adj    0\n",
      "dtype: int64\n"
     ]
    }
   ],
   "source": [
    "print(df_hos_Prg_trim_extra.isnull().sum())\n",
    "print(df_hos_Olo_trim_extra.isnull().sum())"
   ]
  },
  {
   "cell_type": "code",
   "execution_count": 25,
   "metadata": {},
   "outputs": [
    {
     "data": {
      "text/plain": [
       "datum              datetime64[ns]\n",
       "nove_hosp_7                 int64\n",
       "nove_hosp_7_adj           float64\n",
       "dtype: object"
      ]
     },
     "execution_count": 25,
     "metadata": {},
     "output_type": "execute_result"
    }
   ],
   "source": [
    "df_hos_Prg_trim_extra.dtypes"
   ]
  },
  {
   "cell_type": "code",
   "execution_count": 26,
   "metadata": {},
   "outputs": [
    {
     "data": {
      "text/plain": [
       "(0.8388040725544147, 8.289198506547436e-61)"
      ]
     },
     "execution_count": 26,
     "metadata": {},
     "output_type": "execute_result"
    }
   ],
   "source": [
    "import scipy.stats as stats\n",
    "stats.pearsonr(df_hos_Prg_trim_extra['nove_hosp_7_adj'], df_hos_Olo_trim_extra['nove_hosp_7_adj'])"
   ]
  },
  {
   "cell_type": "code",
   "execution_count": 27,
   "metadata": {},
   "outputs": [
    {
     "data": {
      "text/html": [
       "<div>\n",
       "<style scoped>\n",
       "    .dataframe tbody tr th:only-of-type {\n",
       "        vertical-align: middle;\n",
       "    }\n",
       "\n",
       "    .dataframe tbody tr th {\n",
       "        vertical-align: top;\n",
       "    }\n",
       "\n",
       "    .dataframe thead th {\n",
       "        text-align: right;\n",
       "    }\n",
       "</style>\n",
       "<table border=\"1\" class=\"dataframe\">\n",
       "  <thead>\n",
       "    <tr style=\"text-align: right;\">\n",
       "      <th></th>\n",
       "      <th>datum</th>\n",
       "      <th>nove_hosp_7_x</th>\n",
       "      <th>nove_hosp_7_adj_x</th>\n",
       "      <th>nove_hosp_7_y</th>\n",
       "      <th>nove_hosp_7_adj_y</th>\n",
       "    </tr>\n",
       "  </thead>\n",
       "  <tbody>\n",
       "    <tr>\n",
       "      <th>220</th>\n",
       "      <td>2020-10-07</td>\n",
       "      <td>185</td>\n",
       "      <td>0.000166</td>\n",
       "      <td>27</td>\n",
       "      <td>0.000170</td>\n",
       "    </tr>\n",
       "    <tr>\n",
       "      <th>221</th>\n",
       "      <td>2020-10-08</td>\n",
       "      <td>210</td>\n",
       "      <td>0.000188</td>\n",
       "      <td>30</td>\n",
       "      <td>0.000189</td>\n",
       "    </tr>\n",
       "    <tr>\n",
       "      <th>222</th>\n",
       "      <td>2020-10-09</td>\n",
       "      <td>216</td>\n",
       "      <td>0.000193</td>\n",
       "      <td>31</td>\n",
       "      <td>0.000196</td>\n",
       "    </tr>\n",
       "    <tr>\n",
       "      <th>223</th>\n",
       "      <td>2020-10-10</td>\n",
       "      <td>228</td>\n",
       "      <td>0.000204</td>\n",
       "      <td>29</td>\n",
       "      <td>0.000183</td>\n",
       "    </tr>\n",
       "    <tr>\n",
       "      <th>224</th>\n",
       "      <td>2020-10-11</td>\n",
       "      <td>210</td>\n",
       "      <td>0.000188</td>\n",
       "      <td>25</td>\n",
       "      <td>0.000158</td>\n",
       "    </tr>\n",
       "  </tbody>\n",
       "</table>\n",
       "</div>"
      ],
      "text/plain": [
       "         datum  nove_hosp_7_x  nove_hosp_7_adj_x  nove_hosp_7_y  \\\n",
       "220 2020-10-07            185           0.000166             27   \n",
       "221 2020-10-08            210           0.000188             30   \n",
       "222 2020-10-09            216           0.000193             31   \n",
       "223 2020-10-10            228           0.000204             29   \n",
       "224 2020-10-11            210           0.000188             25   \n",
       "\n",
       "     nove_hosp_7_adj_y  \n",
       "220           0.000170  \n",
       "221           0.000189  \n",
       "222           0.000196  \n",
       "223           0.000183  \n",
       "224           0.000158  "
      ]
     },
     "execution_count": 27,
     "metadata": {},
     "output_type": "execute_result"
    }
   ],
   "source": [
    "df_merged = pd.merge(df_hos_Prg_trim_extra, df_hos_Olo_trim_extra, how='left', on='datum')\n",
    "df_merged.tail()"
   ]
  },
  {
   "cell_type": "code",
   "execution_count": 28,
   "metadata": {},
   "outputs": [
    {
     "data": {
      "text/html": [
       "<div>\n",
       "<style scoped>\n",
       "    .dataframe tbody tr th:only-of-type {\n",
       "        vertical-align: middle;\n",
       "    }\n",
       "\n",
       "    .dataframe tbody tr th {\n",
       "        vertical-align: top;\n",
       "    }\n",
       "\n",
       "    .dataframe thead th {\n",
       "        text-align: right;\n",
       "    }\n",
       "</style>\n",
       "<table border=\"1\" class=\"dataframe\">\n",
       "  <thead>\n",
       "    <tr style=\"text-align: right;\">\n",
       "      <th></th>\n",
       "      <th>datum</th>\n",
       "      <th>nove_hosp_7_Prg</th>\n",
       "      <th>nove_hosp_7_adj_Prg</th>\n",
       "      <th>nove_hosp_7_Olo</th>\n",
       "      <th>nove_hosp_7_adj_Olo</th>\n",
       "    </tr>\n",
       "  </thead>\n",
       "  <tbody>\n",
       "    <tr>\n",
       "      <th>220</th>\n",
       "      <td>2020-10-07</td>\n",
       "      <td>185</td>\n",
       "      <td>0.000166</td>\n",
       "      <td>27</td>\n",
       "      <td>0.000170</td>\n",
       "    </tr>\n",
       "    <tr>\n",
       "      <th>221</th>\n",
       "      <td>2020-10-08</td>\n",
       "      <td>210</td>\n",
       "      <td>0.000188</td>\n",
       "      <td>30</td>\n",
       "      <td>0.000189</td>\n",
       "    </tr>\n",
       "    <tr>\n",
       "      <th>222</th>\n",
       "      <td>2020-10-09</td>\n",
       "      <td>216</td>\n",
       "      <td>0.000193</td>\n",
       "      <td>31</td>\n",
       "      <td>0.000196</td>\n",
       "    </tr>\n",
       "    <tr>\n",
       "      <th>223</th>\n",
       "      <td>2020-10-10</td>\n",
       "      <td>228</td>\n",
       "      <td>0.000204</td>\n",
       "      <td>29</td>\n",
       "      <td>0.000183</td>\n",
       "    </tr>\n",
       "    <tr>\n",
       "      <th>224</th>\n",
       "      <td>2020-10-11</td>\n",
       "      <td>210</td>\n",
       "      <td>0.000188</td>\n",
       "      <td>25</td>\n",
       "      <td>0.000158</td>\n",
       "    </tr>\n",
       "  </tbody>\n",
       "</table>\n",
       "</div>"
      ],
      "text/plain": [
       "         datum  nove_hosp_7_Prg  nove_hosp_7_adj_Prg  nove_hosp_7_Olo  \\\n",
       "220 2020-10-07              185             0.000166               27   \n",
       "221 2020-10-08              210             0.000188               30   \n",
       "222 2020-10-09              216             0.000193               31   \n",
       "223 2020-10-10              228             0.000204               29   \n",
       "224 2020-10-11              210             0.000188               25   \n",
       "\n",
       "     nove_hosp_7_adj_Olo  \n",
       "220             0.000170  \n",
       "221             0.000189  \n",
       "222             0.000196  \n",
       "223             0.000183  \n",
       "224             0.000158  "
      ]
     },
     "execution_count": 28,
     "metadata": {},
     "output_type": "execute_result"
    }
   ],
   "source": [
    "df_merged = df_merged.rename(columns={'nove_hosp_7_x':'nove_hosp_7_Prg',\n",
    "                                                  'nove_hosp_7_adj_x':'nove_hosp_7_adj_Prg',\n",
    "                                                 'nove_hosp_7_y':'nove_hosp_7_Olo',\n",
    "                                                  'nove_hosp_7_adj_y':'nove_hosp_7_adj_Olo'})\n",
    "df_merged.tail()"
   ]
  },
  {
   "cell_type": "code",
   "execution_count": 29,
   "metadata": {},
   "outputs": [
    {
     "data": {
      "image/png": "[encoded data removed]",
      "text/plain": [
       "<Figure size 432x288 with 2 Axes>"
      ]
     },
     "metadata": {
      "needs_background": "light"
     },
     "output_type": "display_data"
    }
   ],
   "source": [
    "import seaborn as sn\n",
    "corrMatrix = df_merged.corr()\n",
    "sn.heatmap(corrMatrix, annot=True)\n",
    "plt.show()"
   ]
  },
  {
   "cell_type": "code",
   "execution_count": null,
   "metadata": {},
   "outputs": [],
   "source": []
  }
 ],
 "metadata": {
  "kernelspec": {
   "display_name": "Python 3",
   "language": "python",
   "name": "python3"
  },
  "language_info": {
   "codemirror_mode": {
    "name": "ipython",
    "version": 3
   },
   "file_extension": ".py",
   "mimetype": "text/x-python",
   "name": "python",
   "nbconvert_exporter": "python",
   "pygments_lexer": "ipython3",
   "version": "3.8.3"
  }
 },
 "nbformat": 4,
 "nbformat_minor": 4
}
