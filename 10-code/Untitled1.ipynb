{
 "cells": [
  {
   "cell_type": "markdown",
   "metadata": {
    "toc": true
   },
   "source": [
    "<h1>Table of Contents<span class=\"tocSkip\"></span></h1>\n",
    "<div class=\"toc\"><ul class=\"toc-item\"></ul></div>"
   ]
  },
  {
   "cell_type": "code",
   "execution_count": 4,
   "metadata": {},
   "outputs": [],
   "source": [
    "import urllib\n",
    "from bs4 import BeautifulSoup"
   ]
  },
  {
   "cell_type": "code",
   "execution_count": 6,
   "metadata": {},
   "outputs": [],
   "source": [
    "mysearch = \"marks+dm\" # The searched author's name and initials"
   ]
  },
  {
   "cell_type": "code",
   "execution_count": 8,
   "metadata": {},
   "outputs": [
    {
     "ename": "AttributeError",
     "evalue": "module 'urllib' has no attribute 'urlopen'",
     "output_type": "error",
     "traceback": [
      "\u001b[1;31m---------------------------------------------------------------------------\u001b[0m",
      "\u001b[1;31mAttributeError\u001b[0m                            Traceback (most recent call last)",
      "\u001b[1;32m<ipython-input-8-bb2e1301fd68>\u001b[0m in \u001b[0;36m<module>\u001b[1;34m\u001b[0m\n\u001b[0;32m     41\u001b[0m     \u001b[1;32mreturn\u001b[0m \u001b[0mtitles\u001b[0m\u001b[1;33m\u001b[0m\u001b[1;33m\u001b[0m\u001b[0m\n\u001b[0;32m     42\u001b[0m \u001b[1;33m\u001b[0m\u001b[0m\n\u001b[1;32m---> 43\u001b[1;33m \u001b[0mget_titles_by_author\u001b[0m\u001b[1;33m(\u001b[0m\u001b[0mmysearch\u001b[0m\u001b[1;33m)\u001b[0m\u001b[1;33m\u001b[0m\u001b[1;33m\u001b[0m\u001b[0m\n\u001b[0m",
      "\u001b[1;32m<ipython-input-8-bb2e1301fd68>\u001b[0m in \u001b[0;36mget_titles_by_author\u001b[1;34m(mysearch)\u001b[0m\n\u001b[0;32m     36\u001b[0m \u001b[1;33m\u001b[0m\u001b[0m\n\u001b[0;32m     37\u001b[0m \u001b[1;32mdef\u001b[0m \u001b[0mget_titles_by_author\u001b[0m\u001b[1;33m(\u001b[0m\u001b[0mmysearch\u001b[0m\u001b[1;33m)\u001b[0m\u001b[1;33m:\u001b[0m\u001b[1;33m\u001b[0m\u001b[1;33m\u001b[0m\u001b[0m\n\u001b[1;32m---> 38\u001b[1;33m     \u001b[0mcount\u001b[0m \u001b[1;33m=\u001b[0m \u001b[0mget_count\u001b[0m\u001b[1;33m(\u001b[0m\u001b[0mmysearch\u001b[0m\u001b[1;33m)\u001b[0m\u001b[1;33m\u001b[0m\u001b[1;33m\u001b[0m\u001b[0m\n\u001b[0m\u001b[0;32m     39\u001b[0m     \u001b[0midlist\u001b[0m \u001b[1;33m=\u001b[0m \u001b[0mget_ids\u001b[0m\u001b[1;33m(\u001b[0m\u001b[0mcount\u001b[0m\u001b[1;33m)\u001b[0m\u001b[1;33m\u001b[0m\u001b[1;33m\u001b[0m\u001b[0m\n\u001b[0;32m     40\u001b[0m     \u001b[0mtitles\u001b[0m \u001b[1;33m=\u001b[0m \u001b[0mreturn_titles\u001b[0m\u001b[1;33m(\u001b[0m\u001b[0midlist\u001b[0m\u001b[1;33m)\u001b[0m\u001b[1;33m\u001b[0m\u001b[1;33m\u001b[0m\u001b[0m\n",
      "\u001b[1;32m<ipython-input-8-bb2e1301fd68>\u001b[0m in \u001b[0;36mget_count\u001b[1;34m(mysearch)\u001b[0m\n\u001b[0;32m      4\u001b[0m     \u001b[0mmysearch\u001b[0m \u001b[1;33m=\u001b[0m \u001b[0mmysearch\u001b[0m\u001b[1;33m\u001b[0m\u001b[1;33m\u001b[0m\u001b[0m\n\u001b[0;32m      5\u001b[0m     \u001b[0msearchURL\u001b[0m \u001b[1;33m=\u001b[0m \u001b[1;34m\"http://eutils.ncbi.nlm.nih.gov/entrez/eutils/esearch.fcgi?db=pubmed&retmax=1&term=\"\u001b[0m \u001b[1;33m+\u001b[0m \u001b[0mmysearch\u001b[0m \u001b[1;31m# The www to search\u001b[0m\u001b[1;33m\u001b[0m\u001b[1;33m\u001b[0m\u001b[0m\n\u001b[1;32m----> 6\u001b[1;33m     \u001b[0mpage\u001b[0m \u001b[1;33m=\u001b[0m \u001b[0murllib\u001b[0m\u001b[1;33m.\u001b[0m\u001b[0murlopen\u001b[0m\u001b[1;33m(\u001b[0m\u001b[0msearchURL\u001b[0m\u001b[1;33m)\u001b[0m \u001b[1;31m# Opens the page\u001b[0m\u001b[1;33m\u001b[0m\u001b[1;33m\u001b[0m\u001b[0m\n\u001b[0m\u001b[0;32m      7\u001b[0m     \u001b[0mpagedata\u001b[0m \u001b[1;33m=\u001b[0m \u001b[0mpage\u001b[0m\u001b[1;33m.\u001b[0m\u001b[0mread\u001b[0m\u001b[1;33m(\u001b[0m\u001b[1;33m)\u001b[0m \u001b[1;31m# Reads the page's html\u001b[0m\u001b[1;33m\u001b[0m\u001b[1;33m\u001b[0m\u001b[0m\n\u001b[0;32m      8\u001b[0m     \u001b[0msoup\u001b[0m \u001b[1;33m=\u001b[0m \u001b[0mBeautifulSoup\u001b[0m\u001b[1;33m(\u001b[0m\u001b[0mpagedata\u001b[0m\u001b[1;33m,\u001b[0m \u001b[1;34m'html.parser'\u001b[0m\u001b[1;33m)\u001b[0m \u001b[1;31m# Proper parsing of the html\u001b[0m\u001b[1;33m\u001b[0m\u001b[1;33m\u001b[0m\u001b[0m\n",
      "\u001b[1;31mAttributeError\u001b[0m: module 'urllib' has no attribute 'urlopen'"
     ]
    }
   ],
   "source": [
    "def get_count(mysearch):\n",
    "    \"\"\"Get the count i.e. the number of articles of the searched author.\n",
    "    \"\"\"\n",
    "    mysearch = mysearch\n",
    "    searchURL = \"http://eutils.ncbi.nlm.nih.gov/entrez/eutils/esearch.fcgi?db=pubmed&retmax=1&term=\" + mysearch # The www to search\n",
    "    page = urllib.urlopen(searchURL) # Opens the page\n",
    "    pagedata = page.read() # Reads the page's html\n",
    "    soup = BeautifulSoup(pagedata, 'html.parser') # Proper parsing of the html\n",
    "    count = soup.count.text # The no. of articles by the searched author as unicode\n",
    "    return count\n",
    "\n",
    "def get_ids(count):\n",
    "    \"\"\"Get the list of all the artiles' IDs\n",
    "    \"\"\"\n",
    "    retmax = count\n",
    "    searchURL = \"http://eutils.ncbi.nlm.nih.gov/entrez/eutils/esearch.fcgi?db=pubmed&retmax=\" + str(retmax) + \"&term=\" + mysearch\n",
    "    page = urllib.urlopen(searchURL) # Opens the page\n",
    "    pagedata = page.read() # Reads the page\n",
    "    soup = BeautifulSoup(pagedata, 'html.parser')\n",
    "    idlist = soup.esearchresult.idlist.text.split() # List of unicode\n",
    "    return idlist\n",
    "\n",
    "def return_titles(my_list):\n",
    "    \"\"\"Use the article IDs to extract the journal article titles.\n",
    "    \"\"\"\n",
    "    searchURLbase = \"http://eutils.ncbi.nlm.nih.gov/entrez/eutils/efetch.fcgi?db=pubmed&retmode=xml&id=\"\n",
    "    titles = []\n",
    "    for each in my_list:\n",
    "        searchURL = searchURLbase + each\n",
    "        page = urllib.urlopen(searchURL) # Opens the page\n",
    "        pagedata = page.read()\n",
    "        soup = BeautifulSoup(pagedata, 'html.parser')\n",
    "        title = str(soup.articletitle.text)\n",
    "        titles.append(title)\n",
    "    return titles        \n",
    "\n",
    "def get_titles_by_author(mysearch):\n",
    "    count = get_count(mysearch)\n",
    "    idlist = get_ids(count)\n",
    "    titles = return_titles(idlist)\n",
    "    return titles\n",
    "\n",
    "get_titles_by_author(mysearch)"
   ]
  },
  {
   "cell_type": "code",
   "execution_count": null,
   "metadata": {},
   "outputs": [],
   "source": []
  },
  {
   "cell_type": "code",
   "execution_count": null,
   "metadata": {},
   "outputs": [],
   "source": []
  }
 ],
 "metadata": {
  "kernelspec": {
   "display_name": "Python 3",
   "language": "python",
   "name": "python3"
  },
  "toc": {
   "base_numbering": 1,
   "nav_menu": {},
   "number_sections": true,
   "sideBar": true,
   "skip_h1_title": true,
   "title_cell": "Table of Contents",
   "title_sidebar": "Contents",
   "toc_cell": true,
   "toc_position": {},
   "toc_section_display": true,
   "toc_window_display": true
  }
 },
 "nbformat": 4,
 "nbformat_minor": 4
}
