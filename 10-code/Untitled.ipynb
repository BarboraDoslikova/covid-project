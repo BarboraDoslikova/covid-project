{
 "cells": [
  {
   "cell_type": "markdown",
   "metadata": {
    "toc": true
   },
   "source": [
    "<h1>Table of Contents<span class=\"tocSkip\"></span></h1>\n",
    "<div class=\"toc\"><ul class=\"toc-item\"></ul></div>"
   ]
  },
  {
   "cell_type": "code",
   "execution_count": 2,
   "metadata": {},
   "outputs": [
    {
     "name": "stdout",
     "output_type": "stream",
     "text": [
      "['Neurochemical Characterization of Brainstem Pro-Opiomelanocortin Cells.', 'Convergent neuronal projections from paraventricular nucleus, parabrachial nucleus, and brainstem onto gastrocnemius muscle, white and brown adipose tissue in male rats.', 'Nucleus of the Solitary Tract Serotonin 5-HT2C Receptors Modulate Food Intake.', 'Melanin-concentrating hormone in peripheral circulation in the human.', 'Sex difference in physical activity, energy expenditure and obesity driven by a subpopulation of hypothalamic POMC neurons.', 'Defense of Elevated Body Weight Setpoint in Diet-Induced Obese Rats on Low Energy Diet Is Mediated by Loss of Melanocortin Sensitivity in the Paraventricular Hypothalamic Nucleus.', '5-HT obesity medication efficacy via POMC activation is maintained during aging.', '5-HT2C receptor agonist anorectic efficacy potentiated by 5-HT1B receptor agonist coapplication: an effect mediated via increased proportion of pro-opiomelanocortin neurons activated.']\n"
     ]
    }
   ],
   "source": [
    "# -*- coding: utf-8 -*-\n",
    "\"\"\"\n",
    "Created on Thu Nov 26 20:14:49 2015\n",
    "Updated on Wed Oct 21 16:04:00 2020\n",
    "This script extracts journal article titles (as strings in a list) \n",
    "by an author's name from the PubMed website.\n",
    "For a future use in a Markov Chain.\n",
    "@author: Barbora Doslikova\n",
    "\"\"\"\n",
    "\n",
    "import urllib.request\n",
    "from bs4 import BeautifulSoup\n",
    "\n",
    "mysearch = \"doslikova+b\" # The searched author's name and initials\n",
    "\n",
    "def get_count(mysearch):\n",
    "    \"\"\"Get the count i.e. the number of articles of the searched author.\n",
    "    \"\"\"\n",
    "    mysearch = mysearch\n",
    "    searchURL = \"http://eutils.ncbi.nlm.nih.gov/entrez/eutils/esearch.fcgi?db=pubmed&retmax=1&term=\" + mysearch # The www to search\n",
    "    page = urllib.request.urlopen(searchURL) # Opens the page\n",
    "    pagedata = page.read() # Reads the page's html\n",
    "    soup = BeautifulSoup(pagedata, 'html.parser') # Proper parsing of the html\n",
    "    count = soup.count.text # The no. of articles by the searched author as unicode\n",
    "    return count\n",
    "\n",
    "def get_ids(count):\n",
    "    \"\"\"Get the list of all the artiles' IDs\n",
    "    \"\"\"\n",
    "    retmax = count\n",
    "    searchURL = \"http://eutils.ncbi.nlm.nih.gov/entrez/eutils/esearch.fcgi?db=pubmed&retmax=\" + str(retmax) + \"&term=\" + mysearch\n",
    "    page = urllib.request.urlopen(searchURL) # Opens the page\n",
    "    pagedata = page.read() # Reads the page\n",
    "    soup = BeautifulSoup(pagedata, 'html.parser')\n",
    "    idlist = soup.esearchresult.idlist.text.split() # List of unicode\n",
    "    return idlist\n",
    "\n",
    "def return_titles(my_list):\n",
    "    \"\"\"Use the article IDs to extract the journal article titles.\n",
    "    \"\"\"\n",
    "    searchURLbase = \"http://eutils.ncbi.nlm.nih.gov/entrez/eutils/efetch.fcgi?db=pubmed&retmode=xml&id=\"\n",
    "    titles = []\n",
    "    for each in my_list:\n",
    "        searchURL = searchURLbase + each\n",
    "        page = urllib.request.urlopen(searchURL) # Opens the page\n",
    "        pagedata = page.read()\n",
    "        soup = BeautifulSoup(pagedata, 'html.parser')\n",
    "        title = str(soup.articletitle.text)\n",
    "        titles.append(title)\n",
    "    return titles        \n",
    "\n",
    "def get_titles_by_author(mysearch):\n",
    "    count = get_count(mysearch)\n",
    "    idlist = get_ids(count)\n",
    "    titles = return_titles(idlist)\n",
    "    return titles\n",
    "\n",
    "print(get_titles_by_author(mysearch))"
   ]
  },
  {
   "cell_type": "code",
   "execution_count": null,
   "metadata": {},
   "outputs": [],
   "source": []
  }
 ],
 "metadata": {
  "kernelspec": {
   "display_name": "Python 3",
   "language": "python",
   "name": "python3"
  },
  "language_info": {
   "codemirror_mode": {
    "name": "ipython",
    "version": 3
   },
   "file_extension": ".py",
   "mimetype": "text/x-python",
   "name": "python",
   "nbconvert_exporter": "python",
   "pygments_lexer": "ipython3",
   "version": "3.8.3"
  },
  "toc": {
   "base_numbering": 1,
   "nav_menu": {},
   "number_sections": true,
   "sideBar": true,
   "skip_h1_title": true,
   "title_cell": "Table of Contents",
   "title_sidebar": "Contents",
   "toc_cell": true,
   "toc_position": {},
   "toc_section_display": true,
   "toc_window_display": true
  }
 },
 "nbformat": 4,
 "nbformat_minor": 4
}
